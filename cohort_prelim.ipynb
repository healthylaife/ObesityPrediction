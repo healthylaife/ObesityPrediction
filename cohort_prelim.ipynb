{
 "cells": [
  {
   "cell_type": "code",
   "execution_count": 1,
   "metadata": {},
   "outputs": [],
   "source": [
    "import pandas as pd"
   ]
  },
  {
   "cell_type": "code",
   "execution_count": 2,
   "metadata": {},
   "outputs": [],
   "source": [
    "meas=pd.read_csv('meas2.csv',header=0)"
   ]
  },
  {
   "cell_type": "code",
   "execution_count": 3,
   "metadata": {},
   "outputs": [
    {
     "data": {
      "text/plain": [
       "(27378712, 5)"
      ]
     },
     "execution_count": 3,
     "metadata": {},
     "output_type": "execute_result"
    }
   ],
   "source": [
    "meas.shape"
   ]
  },
  {
   "cell_type": "code",
   "execution_count": null,
   "metadata": {},
   "outputs": [],
   "source": [
    "meas.head()"
   ]
  },
  {
   "cell_type": "code",
   "execution_count": 5,
   "metadata": {},
   "outputs": [
    {
     "data": {
      "text/plain": [
       "68013"
      ]
     },
     "execution_count": 5,
     "metadata": {},
     "output_type": "execute_result"
    }
   ],
   "source": [
    "meas.person_id.nunique()"
   ]
  },
  {
   "cell_type": "code",
   "execution_count": 6,
   "metadata": {},
   "outputs": [
    {
     "data": {
      "text/plain": [
       "428"
      ]
     },
     "execution_count": 6,
     "metadata": {},
     "output_type": "execute_result"
    }
   ],
   "source": [
    "meas.fact_id.nunique()"
   ]
  },
  {
   "cell_type": "code",
   "execution_count": null,
   "metadata": {},
   "outputs": [],
   "source": [
    "meas['val'] = pd.to_numeric(meas['val'], errors='coerce')\n",
    "#meas=meas.dropna()\n",
    "meas.head()"
   ]
  },
  {
   "cell_type": "code",
   "execution_count": 8,
   "metadata": {},
   "outputs": [],
   "source": [
    "pt=pd.read_csv('patientVisitAge.csv',header=0)"
   ]
  },
  {
   "cell_type": "code",
   "execution_count": 9,
   "metadata": {},
   "outputs": [],
   "source": [
    "meas=pd.merge(meas,pt[['person_id','visit_occurrence_id','Age']],on=['person_id','visit_occurrence_id'],how='left')"
   ]
  },
  {
   "cell_type": "code",
   "execution_count": 10,
   "metadata": {},
   "outputs": [],
   "source": [
    "bmip=meas[meas['fact_id'].isin([3013762,3023540])]\n",
    "bmip=bmip.dropna()\n",
    "bmip=bmip[bmip['val']>0]\n",
    "bmip['Age']=bmip['Age']*12\n",
    "bmip['Age']=bmip['Age'].astype(int)"
   ]
  },
  {
   "cell_type": "code",
   "execution_count": 11,
   "metadata": {},
   "outputs": [],
   "source": [
    "bmip=bmip.pivot_table(index=['person_id','Age'],columns='fact',values='val')\n",
    "bmip=bmip.reset_index()\n",
    "bmip=bmip.dropna()\n"
   ]
  },
  {
   "cell_type": "code",
   "execution_count": null,
   "metadata": {},
   "outputs": [],
   "source": [
    "bmip.head()"
   ]
  },
  {
   "cell_type": "code",
   "execution_count": 13,
   "metadata": {},
   "outputs": [],
   "source": [
    "demo=pd.read_csv('demo2.csv',header=0)"
   ]
  },
  {
   "cell_type": "code",
   "execution_count": 14,
   "metadata": {},
   "outputs": [],
   "source": [
    "bmip=pd.merge(bmip,demo[['person_id','Sex']],on='person_id',how='left')"
   ]
  },
  {
   "cell_type": "code",
   "execution_count": null,
   "metadata": {},
   "outputs": [],
   "source": [
    "bmip.head()"
   ]
  },
  {
   "cell_type": "code",
   "execution_count": 16,
   "metadata": {},
   "outputs": [],
   "source": [
    "bmip['BMI']=bmip['Body weight Measured']/(bmip['Body height Measured']/100*bmip['Body height Measured']/100)"
   ]
  },
  {
   "cell_type": "code",
   "execution_count": 17,
   "metadata": {},
   "outputs": [],
   "source": [
    "labs=bmip"
   ]
  },
  {
   "cell_type": "code",
   "execution_count": 18,
   "metadata": {},
   "outputs": [],
   "source": [
    "fbmi=pd.read_csv('Female_BMI2.csv',header=0)\n",
    "mbmi=pd.read_csv('Male_BMI2.csv',header=0)"
   ]
  },
  {
   "cell_type": "code",
   "execution_count": 80,
   "metadata": {},
   "outputs": [],
   "source": [
    "for row in range(fbmi.shape[0]):\n",
    "    labs.loc[(labs.Sex=='Female') & (labs.Age>=fbmi.iloc[row,0]) & (labs.Age<fbmi.iloc[row,0] + 1) & (labs.BMI<=fbmi.iloc[row,1]),'label']=3\n",
    "    labs.loc[(labs.Sex=='Female') &(labs.Age>=fbmi.iloc[row,0]) & (labs.Age<fbmi.iloc[row,0] + 1) & (labs.BMI>fbmi.iloc[row,1]) & (labs.BMI<=fbmi.iloc[row,2]),'label']=5\n",
    "    labs.loc[(labs.Sex=='Female') & (labs.Age>=fbmi.iloc[row,0]) & (labs.Age<fbmi.iloc[row,0] + 1) & (labs.BMI>fbmi.iloc[row,2]) & (labs.BMI<=fbmi.iloc[row,3]),'label']=10\n",
    "    labs.loc[(labs.Sex=='Female') &(labs.Age>=fbmi.iloc[row,0]) & (labs.Age<fbmi.iloc[row,0] + 1) & (labs.BMI>fbmi.iloc[row,3]) & (labs.BMI<=fbmi.iloc[row,4]),'label']=25\n",
    "    labs.loc[(labs.Sex=='Female') & (labs.Age>=fbmi.iloc[row,0]) & (labs.Age<fbmi.iloc[row,0] + 1) & (labs.BMI>fbmi.iloc[row,4]) & (labs.BMI<=fbmi.iloc[row,5]),'label']=50\n",
    "    labs.loc[(labs.Sex=='Female') &(labs.Age>=fbmi.iloc[row,0]) & (labs.Age<fbmi.iloc[row,0] + 1) & (labs.BMI>fbmi.iloc[row,5]) & (labs.BMI<=fbmi.iloc[row,6]),'label']=75\n",
    "    labs.loc[(labs.Sex=='Female') & (labs.Age>=fbmi.iloc[row,0]) & (labs.Age<fbmi.iloc[row,0] + 1) & (labs.BMI>fbmi.iloc[row,6]) & (labs.BMI<=fbmi.iloc[row,7]),'label']=85\n",
    "    labs.loc[(labs.Sex=='Female') &(labs.Age>=fbmi.iloc[row,0]) & (labs.Age<fbmi.iloc[row,0] + 1) & (labs.BMI>fbmi.iloc[row,7]) & (labs.BMI<=fbmi.iloc[row,8]),'label']=90\n",
    "    labs.loc[(labs.Sex=='Female') & (labs.Age>=fbmi.iloc[row,0]) & (labs.Age<fbmi.iloc[row,0] + 1) & (labs.BMI>fbmi.iloc[row,8]) & (labs.BMI<=fbmi.iloc[row,9]),'label']=95\n",
    "    labs.loc[(labs.Sex=='Female') & (labs.Age>=fbmi.iloc[row,0]) & (labs.Age<fbmi.iloc[row,0] + 1) & (labs.BMI>fbmi.iloc[row,9]) & (labs.BMI<=fbmi.iloc[row,10]),'label']=97\n",
    "    labs.loc[(labs.Sex=='Female') & (labs.Age>=fbmi.iloc[row,0]) & (labs.Age<fbmi.iloc[row,0] + 1) & (labs.BMI>fbmi.iloc[row,10]),'label']=100\n",
    "    "
   ]
  },
  {
   "cell_type": "code",
   "execution_count": 81,
   "metadata": {},
   "outputs": [],
   "source": [
    "for row in range(mbmi.shape[0]):\n",
    "    labs.loc[(labs.Sex=='Male') & (labs.Age>=mbmi.iloc[row,0]) & (labs.Age<mbmi.iloc[row,0] + 1) & (labs.BMI<=mbmi.iloc[row,1]),'label']=3\n",
    "    labs.loc[(labs.Sex=='Male') &(labs.Age>=mbmi.iloc[row,0]) & (labs.Age<mbmi.iloc[row,0] + 1) & (labs.BMI>mbmi.iloc[row,1]) & (labs.BMI<=mbmi.iloc[row,2]),'label']=5\n",
    "    labs.loc[(labs.Sex=='Male') & (labs.Age>=mbmi.iloc[row,0]) & (labs.Age<mbmi.iloc[row,0] + 1) & (labs.BMI>mbmi.iloc[row,2]) & (labs.BMI<=mbmi.iloc[row,3]),'label']=10\n",
    "    labs.loc[(labs.Sex=='Male') &(labs.Age>=mbmi.iloc[row,0]) & (labs.Age<mbmi.iloc[row,0] + 1) & (labs.BMI>mbmi.iloc[row,3]) & (labs.BMI<=mbmi.iloc[row,4]),'label']=25\n",
    "    labs.loc[(labs.Sex=='Male') & (labs.Age>=mbmi.iloc[row,0]) & (labs.Age<mbmi.iloc[row,0] + 1) & (labs.BMI>mbmi.iloc[row,4]) & (labs.BMI<=mbmi.iloc[row,5]),'label']=50\n",
    "    labs.loc[(labs.Sex=='Male') &(labs.Age>=mbmi.iloc[row,0]) & (labs.Age<mbmi.iloc[row,0] + 1) & (labs.BMI>mbmi.iloc[row,5]) & (labs.BMI<=mbmi.iloc[row,6]),'label']=75\n",
    "    labs.loc[(labs.Sex=='Male') & (labs.Age>=mbmi.iloc[row,0]) & (labs.Age<mbmi.iloc[row,0] + 1) & (labs.BMI>mbmi.iloc[row,6]) & (labs.BMI<=mbmi.iloc[row,7]),'label']=85\n",
    "    labs.loc[(labs.Sex=='Male') &(labs.Age>=mbmi.iloc[row,0]) & (labs.Age<mbmi.iloc[row,0] + 1) & (labs.BMI>mbmi.iloc[row,7]) & (labs.BMI<=mbmi.iloc[row,8]),'label']=90\n",
    "    labs.loc[(labs.Sex=='Male') & (labs.Age>=mbmi.iloc[row,0]) & (labs.Age<mbmi.iloc[row,0] + 1) & (labs.BMI>mbmi.iloc[row,8]) & (labs.BMI<=mbmi.iloc[row,9]),'label']=95\n",
    "    labs.loc[(labs.Sex=='Male') & (labs.Age>=mbmi.iloc[row,0]) & (labs.Age<mbmi.iloc[row,0] + 1) & (labs.BMI>mbmi.iloc[row,9]) & (labs.BMI<=mbmi.iloc[row,10]),'label']=97\n",
    "    labs.loc[(labs.Sex=='Male') & (labs.Age>=mbmi.iloc[row,0]) & (labs.Age<mbmi.iloc[row,0] + 1) & (labs.BMI>mbmi.iloc[row,10]) ,'label']=100\n",
    "    "
   ]
  },
  {
   "cell_type": "code",
   "execution_count": 82,
   "metadata": {},
   "outputs": [],
   "source": [
    "fbmi=pd.read_csv('femaleinfant2.csv',header=0)\n",
    "mbmi=pd.read_csv('maleinfant2.csv',header=0)"
   ]
  },
  {
   "cell_type": "code",
   "execution_count": 83,
   "metadata": {},
   "outputs": [],
   "source": [
    "for row in range(fbmi.shape[0]):\n",
    "    labs.loc[(labs.Sex=='Female') & (labs.Age>=0) & (labs.Age<24) & (labs['Body height Measured']>=fbmi.iloc[row,0]) & (labs['Body height Measured']<fbmi.iloc[row,0] + 1) & (labs['Body weight Measured']<=fbmi.iloc[row,1]),'label']=3\n",
    "    labs.loc[(labs.Sex=='Female') & (labs.Age>=0) & (labs.Age<24) & (labs['Body height Measured']>=fbmi.iloc[row,0]) & (labs['Body height Measured']<fbmi.iloc[row,0] + 1) & (labs['Body weight Measured']>fbmi.iloc[row,1]) & (labs['Body weight Measured']<=fbmi.iloc[row,2]),'label']=5\n",
    "    labs.loc[(labs.Sex=='Female') & (labs.Age>=0) & (labs.Age<24) & (labs['Body height Measured']>=fbmi.iloc[row,0]) & (labs['Body height Measured']<fbmi.iloc[row,0] + 1) & (labs['Body weight Measured']>fbmi.iloc[row,2]) & (labs['Body weight Measured']<=fbmi.iloc[row,3]),'label']=10\n",
    "    labs.loc[(labs.Sex=='Female') & (labs.Age>=0) & (labs.Age<24) & (labs['Body height Measured']>=fbmi.iloc[row,0]) & (labs['Body height Measured']<fbmi.iloc[row,0] + 1) & (labs['Body weight Measured']>fbmi.iloc[row,3]) & (labs['Body weight Measured']<=fbmi.iloc[row,4]),'label']=25\n",
    "    labs.loc[(labs.Sex=='Female') & (labs.Age>=0) & (labs.Age<24) & (labs['Body height Measured']>=fbmi.iloc[row,0]) & (labs['Body height Measured']<fbmi.iloc[row,0] + 1) & (labs['Body weight Measured']>fbmi.iloc[row,4]) & (labs['Body weight Measured']<=fbmi.iloc[row,5]),'label']=50\n",
    "    labs.loc[(labs.Sex=='Female') & (labs.Age>=0) & (labs.Age<24) & (labs['Body height Measured']>=fbmi.iloc[row,0]) & (labs['Body height Measured']<fbmi.iloc[row,0] + 1) & (labs['Body weight Measured']>fbmi.iloc[row,5]) & (labs['Body weight Measured']<=fbmi.iloc[row,6]),'label']=75\n",
    "    labs.loc[(labs.Sex=='Female') & (labs.Age>=0) & (labs.Age<24) & (labs['Body height Measured']>=fbmi.iloc[row,0]) & (labs['Body height Measured']<fbmi.iloc[row,0] + 1) & (labs['Body weight Measured']>fbmi.iloc[row,6]) & (labs['Body weight Measured']<=fbmi.iloc[row,7]),'label']=90\n",
    "    labs.loc[(labs.Sex=='Female') & (labs.Age>=0) & (labs.Age<24) & (labs['Body height Measured']>=fbmi.iloc[row,0]) & (labs['Body height Measured']<fbmi.iloc[row,0] + 1) & (labs['Body weight Measured']>fbmi.iloc[row,7]) & (labs['Body weight Measured']<=fbmi.iloc[row,8]),'label']=95\n",
    "    labs.loc[(labs.Sex=='Female') & (labs.Age>=0) & (labs.Age<24) & (labs['Body height Measured']>=fbmi.iloc[row,0]) & (labs['Body height Measured']<fbmi.iloc[row,0] + 1) & (labs['Body weight Measured']>fbmi.iloc[row,8]) & (labs['Body weight Measured']<=fbmi.iloc[row,9]),'label']=97\n",
    "    labs.loc[(labs.Sex=='Female') & (labs.Age>=0) & (labs.Age<24) & (labs['Body height Measured']>=fbmi.iloc[row,0]) & (labs['Body height Measured']<fbmi.iloc[row,0] + 1) & (labs['Body weight Measured']>fbmi.iloc[row,9]),'label']=100"
   ]
  },
  {
   "cell_type": "code",
   "execution_count": 84,
   "metadata": {},
   "outputs": [],
   "source": [
    "for row in range(mbmi.shape[0]):\n",
    "    labs.loc[(labs.Sex=='Male') & (labs.Age>=0) & (labs.Age<24) & (labs['Body height Measured']>=mbmi.iloc[row,0]) & (labs['Body height Measured']<mbmi.iloc[row,0] + 1) & (labs['Body weight Measured']<=mbmi.iloc[row,1]),'label']=3\n",
    "    labs.loc[(labs.Sex=='Male') & (labs.Age>=0) & (labs.Age<24) & (labs['Body height Measured']>=mbmi.iloc[row,0]) & (labs['Body height Measured']<mbmi.iloc[row,0] + 1) & (labs['Body weight Measured']>mbmi.iloc[row,1]) & (labs['Body weight Measured']<=mbmi.iloc[row,2]),'label']=5\n",
    "    labs.loc[(labs.Sex=='Male') & (labs.Age>=0) & (labs.Age<24) & (labs['Body height Measured']>=mbmi.iloc[row,0]) & (labs['Body height Measured']<mbmi.iloc[row,0] + 1) & (labs['Body weight Measured']>mbmi.iloc[row,2]) & (labs['Body weight Measured']<=mbmi.iloc[row,3]),'label']=10\n",
    "    labs.loc[(labs.Sex=='Male') & (labs.Age>=0) & (labs.Age<24) & (labs['Body height Measured']>=mbmi.iloc[row,0]) & (labs['Body height Measured']<mbmi.iloc[row,0] + 1) & (labs['Body weight Measured']>mbmi.iloc[row,3]) & (labs['Body weight Measured']<=mbmi.iloc[row,4]),'label']=25\n",
    "    labs.loc[(labs.Sex=='Male') & (labs.Age>=0) & (labs.Age<24) & (labs['Body height Measured']>=mbmi.iloc[row,0]) & (labs['Body height Measured']<mbmi.iloc[row,0] + 1) & (labs['Body weight Measured']>mbmi.iloc[row,4]) & (labs['Body weight Measured']<=mbmi.iloc[row,5]),'label']=50\n",
    "    labs.loc[(labs.Sex=='Male') & (labs.Age>=0) & (labs.Age<24) & (labs['Body height Measured']>=mbmi.iloc[row,0]) & (labs['Body height Measured']<mbmi.iloc[row,0] + 1) & (labs['Body weight Measured']>mbmi.iloc[row,5]) & (labs['Body weight Measured']<=mbmi.iloc[row,6]),'label']=75\n",
    "    labs.loc[(labs.Sex=='Male') & (labs.Age>=0) & (labs.Age<24) & (labs['Body height Measured']>=mbmi.iloc[row,0]) & (labs['Body height Measured']<mbmi.iloc[row,0] + 1) & (labs['Body weight Measured']>mbmi.iloc[row,6]) & (labs['Body weight Measured']<=mbmi.iloc[row,7]),'label']=90\n",
    "    labs.loc[(labs.Sex=='Male') & (labs.Age>=0) & (labs.Age<24) & (labs['Body height Measured']>=mbmi.iloc[row,0]) & (labs['Body height Measured']<mbmi.iloc[row,0] + 1) & (labs['Body weight Measured']>mbmi.iloc[row,7]) & (labs['Body weight Measured']<=mbmi.iloc[row,8]),'label']=95\n",
    "    labs.loc[(labs.Sex=='Male') & (labs.Age>=0) & (labs.Age<24) & (labs['Body height Measured']>=mbmi.iloc[row,0]) & (labs['Body height Measured']<mbmi.iloc[row,0] + 1) & (labs['Body weight Measured']>mbmi.iloc[row,8]) & (labs['Body weight Measured']<=mbmi.iloc[row,9]),'label']=97\n",
    "    labs.loc[(labs.Sex=='Male') & (labs.Age>=0) & (labs.Age<24) & (labs['Body height Measured']>=mbmi.iloc[row,0]) & (labs['Body height Measured']<mbmi.iloc[row,0] + 1) & (labs['Body weight Measured']>mbmi.iloc[row,9]),'label']=100"
   ]
  },
  {
   "cell_type": "code",
   "execution_count": 84,
   "metadata": {},
   "outputs": [],
   "source": [
    "bmip=pd.read_csv('bmip.csv',header=0)"
   ]
  },
  {
   "cell_type": "code",
   "execution_count": null,
   "metadata": {},
   "outputs": [],
   "source": [
    "bmip.head()"
   ]
  },
  {
   "cell_type": "code",
   "execution_count": 86,
   "metadata": {},
   "outputs": [],
   "source": [
    "bmip=bmip.sort_values(by=['person_id','Age'])"
   ]
  },
  {
   "cell_type": "code",
   "execution_count": 87,
   "metadata": {},
   "outputs": [],
   "source": [
    "bmip.loc[(bmip['Age']>=0) & (bmip['Age']<=12),'Age_label']=12\n",
    "bmip.loc[(bmip['Age']>12) & (bmip['Age']<=24),'Age_label']=24\n",
    "bmip.loc[(bmip['Age']>24) & (bmip['Age']<=36),'Age_label']=36\n",
    "bmip.loc[(bmip['Age']>36) & (bmip['Age']<=48),'Age_label']=48\n",
    "bmip.loc[(bmip['Age']>48) & (bmip['Age']<=60),'Age_label']=60\n",
    "bmip.loc[(bmip['Age']>60) & (bmip['Age']<=72),'Age_label']=72\n",
    "bmip.loc[(bmip['Age']>72) & (bmip['Age']<=84),'Age_label']=84\n",
    "bmip.loc[(bmip['Age']>84) & (bmip['Age']<=96),'Age_label']=96\n",
    "bmip.loc[(bmip['Age']>96) & (bmip['Age']<=108),'Age_label']=108\n",
    "bmip.loc[(bmip['Age']>108) & (bmip['Age']<=120),'Age_label']=120"
   ]
  },
  {
   "cell_type": "code",
   "execution_count": 88,
   "metadata": {},
   "outputs": [],
   "source": [
    "temp=bmip[bmip['Age']<=120]"
   ]
  },
  {
   "cell_type": "code",
   "execution_count": 19,
   "metadata": {},
   "outputs": [],
   "source": [
    "temp=bmip.groupby(['person_id','Age_label']).agg(['last']).reset_index()"
   ]
  },
  {
   "cell_type": "code",
   "execution_count": 20,
   "metadata": {},
   "outputs": [
    {
     "data": {
      "text/plain": [
       "MultiIndex([(           'person_id',     ''),\n",
       "            (           'Age_label',     ''),\n",
       "            (                 'Age', 'last'),\n",
       "            ('Body height Measured', 'last'),\n",
       "            ('Body weight Measured', 'last'),\n",
       "            (                 'Sex', 'last'),\n",
       "            (                 'BMI', 'last'),\n",
       "            (               'label', 'last')],\n",
       "           )"
      ]
     },
     "execution_count": 20,
     "metadata": {},
     "output_type": "execute_result"
    }
   ],
   "source": [
    "temp.columns"
   ]
  },
  {
   "cell_type": "code",
   "execution_count": null,
   "metadata": {},
   "outputs": [],
   "source": [
    "temp.head()"
   ]
  },
  {
   "cell_type": "code",
   "execution_count": 22,
   "metadata": {},
   "outputs": [],
   "source": [
    "temp=temp.groupby('person_id').count().reset_index()"
   ]
  },
  {
   "cell_type": "code",
   "execution_count": null,
   "metadata": {},
   "outputs": [],
   "source": [
    "temp"
   ]
  },
  {
   "cell_type": "code",
   "execution_count": 24,
   "metadata": {},
   "outputs": [
    {
     "data": {
      "text/plain": [
       "67695"
      ]
     },
     "execution_count": 24,
     "metadata": {},
     "output_type": "execute_result"
    }
   ],
   "source": [
    "temp['person_id'].nunique()"
   ]
  },
  {
   "cell_type": "code",
   "execution_count": 25,
   "metadata": {},
   "outputs": [
    {
     "data": {
      "text/plain": [
       "67695"
      ]
     },
     "execution_count": 25,
     "metadata": {},
     "output_type": "execute_result"
    }
   ],
   "source": [
    "temp=temp[temp['Age_label']>=10]\n",
    "temp['person_id'].nunique()"
   ]
  },
  {
   "cell_type": "code",
   "execution_count": 89,
   "metadata": {},
   "outputs": [
    {
     "data": {
      "text/plain": [
       "(36191, 1)"
      ]
     },
     "execution_count": 89,
     "metadata": {},
     "output_type": "execute_result"
    }
   ],
   "source": [
    "train_id=pd.read_csv('data/4/tt/all_id.csv',header=0)\n",
    "train_id.shape"
   ]
  },
  {
   "cell_type": "code",
   "execution_count": 90,
   "metadata": {},
   "outputs": [],
   "source": [
    "bmip=bmip[bmip['person_id'].isin(train_id['person_id'].unique())]"
   ]
  },
  {
   "cell_type": "code",
   "execution_count": 26,
   "metadata": {},
   "outputs": [],
   "source": [
    "bmip=bmip[bmip['person_id'].isin(temp['person_id'].unique())]"
   ]
  },
  {
   "cell_type": "code",
   "execution_count": 91,
   "metadata": {},
   "outputs": [
    {
     "data": {
      "text/plain": [
       "36191"
      ]
     },
     "execution_count": 91,
     "metadata": {},
     "output_type": "execute_result"
    }
   ],
   "source": [
    "bmip['person_id'].nunique()"
   ]
  },
  {
   "cell_type": "code",
   "execution_count": 31,
   "metadata": {},
   "outputs": [],
   "source": [
    "last_2=bmip[bmip['Age']<=24].groupby(['person_id']).agg({'label':'last'}).reset_index()"
   ]
  },
  {
   "cell_type": "code",
   "execution_count": 32,
   "metadata": {},
   "outputs": [],
   "source": [
    "last_2_under=last_2[last_2['label']<=5]\n",
    "last_2_normal=last_2[(last_2['label']>5) & (last_2['label']<=85)]\n",
    "last_2_over=last_2[last_2['label']>85 & (last_2['label']<=95)]\n",
    "last_2_obese=last_2[last_2['label']>95]"
   ]
  },
  {
   "cell_type": "code",
   "execution_count": 33,
   "metadata": {},
   "outputs": [
    {
     "name": "stdout",
     "output_type": "stream",
     "text": [
      "1471\n",
      "23501\n",
      "36191\n",
      "3809\n"
     ]
    }
   ],
   "source": [
    "print(last_2_under['person_id'].nunique())\n",
    "print(last_2_normal['person_id'].nunique())\n",
    "print(last_2_over['person_id'].nunique())\n",
    "print(last_2_obese['person_id'].nunique())"
   ]
  },
  {
   "cell_type": "code",
   "execution_count": 34,
   "metadata": {},
   "outputs": [],
   "source": [
    "bmip_under=bmip[bmip['person_id'].isin(last_2_under['person_id'].unique())]\n",
    "bmip_normal=bmip[bmip['person_id'].isin(last_2_normal['person_id'].unique())]\n",
    "bmip_over=bmip[bmip['person_id'].isin(last_2_over['person_id'].unique())]\n",
    "bmip_obese=bmip[bmip['person_id'].isin(last_2_obese['person_id'].unique())]"
   ]
  },
  {
   "cell_type": "code",
   "execution_count": 23,
   "metadata": {},
   "outputs": [
    {
     "name": "stdout",
     "output_type": "stream",
     "text": [
      "2.1201413427561837\n",
      "4.946996466431095\n",
      "6.36042402826855\n",
      "6.713780918727916\n",
      "8.480565371024735\n",
      "9.540636042402827\n",
      "14.487632508833922\n",
      "16.96113074204947\n"
     ]
    }
   ],
   "source": [
    "for i in range(36,132,12): \n",
    "    sub=bmip_under[(bmip_under['Age_label']==i)].groupby('person_id').agg({'label':max})\n",
    "    sub=sub.reset_index()\n",
    "    sub=sub.drop_duplicates()\n",
    "    sub=sub[sub['label']>=95]\n",
    "    print(((sub['person_id'].nunique())/283)*100)"
   ]
  },
  {
   "cell_type": "code",
   "execution_count": 24,
   "metadata": {},
   "outputs": [
    {
     "name": "stdout",
     "output_type": "stream",
     "text": [
      "12.310964083175802\n",
      "17.580340264650285\n",
      "21.12476370510397\n",
      "22.377126654064273\n",
      "24.196597353497165\n",
      "26.48865784499055\n",
      "29.53686200378072\n",
      "31.356332703213614\n"
     ]
    }
   ],
   "source": [
    "for i in range(36,132,12): \n",
    "    sub=bmip_normal[(bmip_normal['Age_label']==i)].groupby('person_id').agg({'label':max})\n",
    "    sub=sub.reset_index()\n",
    "    sub=sub.drop_duplicates()\n",
    "    sub=sub[sub['label']>=95]\n",
    "    print(((sub['person_id'].nunique())/4232)*100)"
   ]
  },
  {
   "cell_type": "code",
   "execution_count": 25,
   "metadata": {},
   "outputs": [
    {
     "name": "stdout",
     "output_type": "stream",
     "text": [
      "25.2712947822209\n",
      "30.801248699271593\n",
      "33.3878400475695\n",
      "33.13512709974729\n",
      "33.462167385164264\n",
      "34.48788464397205\n",
      "36.64337743422031\n",
      "37.802883900698674\n"
     ]
    }
   ],
   "source": [
    "for i in range(36,132,12): \n",
    "    sub=bmip_over[(bmip_over['Age_label']==i)].groupby('person_id').agg({'label':max})\n",
    "    sub=sub.reset_index()\n",
    "    sub=sub.drop_duplicates()\n",
    "    sub=sub[sub['label']>=95]\n",
    "    print(((sub['person_id'].nunique())/6727)*100)"
   ]
  },
  {
   "cell_type": "code",
   "execution_count": 26,
   "metadata": {},
   "outputs": [
    {
     "name": "stdout",
     "output_type": "stream",
     "text": [
      "76.9704433497537\n",
      "79.55665024630541\n",
      "79.1871921182266\n",
      "74.13793103448276\n",
      "71.42857142857143\n",
      "68.96551724137932\n",
      "68.10344827586206\n",
      "66.7487684729064\n"
     ]
    }
   ],
   "source": [
    "for i in range(36,132,12): \n",
    "    sub=bmip_obese[(bmip_obese['Age_label']==i)].groupby('person_id').agg({'label':max})\n",
    "    sub=sub.reset_index()\n",
    "    sub=sub.drop_duplicates()\n",
    "    sub=sub[sub['label']>=95]\n",
    "    print(((sub['person_id'].nunique())/812)*100)"
   ]
  },
  {
   "cell_type": "code",
   "execution_count": 42,
   "metadata": {},
   "outputs": [
    {
     "name": "stdout",
     "output_type": "stream",
     "text": [
      "0.6215813028344107\n",
      "22.00397812033814\n",
      "30.208851317752362\n",
      "47.165589259075084\n",
      "==============================================\n",
      "0.5410628019323672\n",
      "28.579710144927535\n",
      "31.574879227053138\n",
      "39.30434782608695\n",
      "==============================================\n",
      "0.7147838214783822\n",
      "35.30334728033473\n",
      "29.7768479776848\n",
      "34.20502092050209\n",
      "==============================================\n",
      "0.9943425338590778\n",
      "39.10509171952683\n",
      "28.73307046116921\n",
      "31.167495285444886\n",
      "==============================================\n",
      "1.1693548387096775\n",
      "42.45967741935484\n",
      "28.10483870967742\n",
      "28.266129032258064\n",
      "==============================================\n",
      "1.3063357282821686\n",
      "46.22251251905073\n",
      "26.8669714783366\n",
      "25.604180274330503\n",
      "==============================================\n",
      "1.4373232799245994\n",
      "48.75117813383601\n",
      "26.22525918944392\n",
      "23.586239396795474\n",
      "==============================================\n",
      "1.626233004532125\n",
      "49.773393761663556\n",
      "26.526259664089576\n",
      "22.074113569714743\n",
      "==============================================\n"
     ]
    },
    {
     "data": {
      "image/png": "[encoded data removed]",
      "text/plain": [
       "<Figure size 1440x720 with 1 Axes>"
      ]
     },
     "metadata": {
      "needs_background": "light"
     },
     "output_type": "display_data"
    }
   ],
   "source": [
    "import matplotlib.patches as mpatches\n",
    "plt.rcParams[\"figure.figsize\"] = (20,10)\n",
    "r1=0\n",
    "for i in range(36,132,12): \n",
    "    sub=bmip[(bmip['Age_label']==i)].groupby('person_id').agg({'label':max})\n",
    "    sub=sub.reset_index()\n",
    "    sub=sub.drop_duplicates()\n",
    "    sub=sub[sub['label']>95]\n",
    "    \n",
    "    last_2=bmip[(bmip['person_id'].isin(sub['person_id'].unique())) & (bmip['Age']<=24)].groupby(['person_id']).agg({'label':'last'}).reset_index()\n",
    "    last_2_under=last_2[last_2['label']<=5]\n",
    "    last_2_normal=last_2[(last_2['label']>5) & (last_2['label']<=85)]\n",
    "    last_2_over=last_2[(last_2['label']>85) & (last_2['label']<=95)]\n",
    "    last_2_obese=last_2[last_2['label']>95]\n",
    "    \n",
    "    under=(last_2_under['person_id'].nunique()/last_2['person_id'].nunique())*100\n",
    "    normal=(last_2_normal['person_id'].nunique()/last_2['person_id'].nunique())*100\n",
    "    over=(last_2_over['person_id'].nunique()/last_2['person_id'].nunique())*100\n",
    "    obese=(last_2_obese['person_id'].nunique()/last_2['person_id'].nunique())*100\n",
    "    \n",
    "    print(under)\n",
    "    print(normal)\n",
    "    print(over)\n",
    "    print(obese)\n",
    "    print(\"==============================================\")\n",
    "    \n",
    "    barlist=plt.bar([r1,r1+0.2,r1+(2*0.2),r1+(3*0.2)], [under,normal,over,obese], width=0.2)\n",
    "    barlist[0].set_color('b')\n",
    "    barlist[1].set_color('g')\n",
    "    barlist[2].set_color('orange')\n",
    "    barlist[3].set_color('r')\n",
    "    r1+=1\n",
    "plt.ylabel('Percentage of children with BMI percentile >= 95%', fontsize=25)\n",
    "plt.xlabel('Age (in years)', fontsize=25)\n",
    "plt.xticks([r + 0.4 for r in range(0,8)], ['3', '4', '5', '6', '7','8','9','10'], fontsize=25)\n",
    "plt.yticks(fontsize=25)\n",
    "under_patch = mpatches.Patch(color='b', label='WFL Percentile < 5')\n",
    "n_patch = mpatches.Patch(color='g', label='5 <= WFL Percentile < 85')\n",
    "over_patch = mpatches.Patch(color='orange', label='85 <= WFL Percentile < 95')\n",
    "obese_patch = mpatches.Patch(color='r', label='WFL Percentile >= 95')\n",
    "plt.legend(handles=[under_patch,n_patch,over_patch,obese_patch],fontsize=30,loc='center right' ,bbox_to_anchor=(1.5,0.5))\n",
    "plt.title(\"%age children with BMI percentile >= 95%\",fontsize=30)\n",
    "plt.show()"
   ]
  }
 ],
 "metadata": {
  "hide_input": false,
  "kernelspec": {
   "display_name": "Python 3",
   "language": "python",
   "name": "python3"
  },
  "language_info": {
   "codemirror_mode": {
    "name": "ipython",
    "version": 3
   },
   "file_extension": ".py",
   "mimetype": "text/x-python",
   "name": "python",
   "nbconvert_exporter": "python",
   "pygments_lexer": "ipython3",
   "version": "3.7.6"
  }
 },
 "nbformat": 4,
 "nbformat_minor": 5
}
