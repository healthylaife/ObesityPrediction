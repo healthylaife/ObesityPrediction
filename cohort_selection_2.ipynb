{
 "cells": [
  {
   "cell_type": "code",
   "execution_count": null,
   "metadata": {},
   "outputs": [],
   "source": [
    "import pandas as pd\n",
    "import numpy\n",
    "from tqdm import tqdm\n",
    "tqdm.pandas()"
   ]
  },
  {
   "cell_type": "markdown",
   "metadata": {},
   "source": [
    "# GETTING MEAS"
   ]
  },
  {
   "cell_type": "code",
   "execution_count": null,
   "metadata": {},
   "outputs": [],
   "source": [
    "meas=pd.read_csv('meas2.csv',header=0)\n",
    "meas['val'] = pd.to_numeric(meas['val'], errors='coerce')\n",
    "pt=pd.read_csv('patientVisitAge.csv',header=0)\n",
    "meas=pd.merge(meas,pt[['person_id','visit_occurrence_id','Age']],on=['person_id','visit_occurrence_id'],how='left')\n",
    "meas=meas.dropna()"
   ]
  },
  {
   "cell_type": "code",
   "execution_count": null,
   "metadata": {},
   "outputs": [],
   "source": [
    "meas.head()"
   ]
  },
  {
   "cell_type": "code",
   "execution_count": null,
   "metadata": {},
   "outputs": [],
   "source": [
    "meas['Age']=meas['Age']*12\n",
    "meas['Age']=meas['Age'].astype(int)\n",
    "meas=meas[meas['Age']<=120]"
   ]
  },
  {
   "cell_type": "code",
   "execution_count": null,
   "metadata": {},
   "outputs": [],
   "source": [
    "bmi=pd.read_csv('bmip_signal.csv',header=0)\n",
    "meas=meas[meas['person_id'].isin(bmi['person_id'])]"
   ]
  },
  {
   "cell_type": "code",
   "execution_count": null,
   "metadata": {},
   "outputs": [],
   "source": [
    "meas['person_id'].nunique()"
   ]
  },
  {
   "cell_type": "code",
   "execution_count": null,
   "metadata": {},
   "outputs": [],
   "source": [
    "meas.fact_id.nunique()"
   ]
  },
  {
   "cell_type": "code",
   "execution_count": null,
   "metadata": {},
   "outputs": [],
   "source": [
    "meas_ids=[3013762,\n",
    " 3038553,\n",
    " 3023540,\n",
    " 40762638,\n",
    " 2000000043,\n",
    " 3020891,\n",
    " 3001537,\n",
    " 3000963,\n",
    " 3028406,\n",
    " 3027018,\n",
    " 3024171,\n",
    " 3004249,\n",
    " 3012888,\n",
    " 3009542,\n",
    " 3024731,\n",
    " 3012030,\n",
    " 3010813,\n",
    " 3009744,\n",
    " 3010910,\n",
    " 3022174,\n",
    " 3007461,\n",
    " 3049383,\n",
    " 3045424,\n",
    " 3002030,\n",
    " 40762499,\n",
    " 3020951,\n",
    " 3017354,\n",
    " 3019069,\n",
    " 3017732,\n",
    " 3020416,\n",
    " 3037577,\n",
    " 3019198,\n",
    " 3001604,\n",
    " 3006504,\n",
    " 3022640,\n",
    " 3019550,\n",
    " 3014576,\n",
    " 3006906,\n",
    " 3013682,\n",
    " 3004501,\n",
    " 3016723,\n",
    " 3043111,\n",
    " 3015632,\n",
    " 3013115,\n",
    " 3023103,\n",
    "\n",
    " 3024128,\n",
    " 3022621,\n",
    " 3000330,\n",
    " 3006315,\n",
    " 3024629,\n",
    " 3007950,\n",
    "\n",
    " \n",
    " 3031147,\n",
    " \n",
    " 3024561,\n",
    " 3035995,\n",
    " 3020630,\n",
    " 3006923]"
   ]
  },
  {
   "cell_type": "code",
   "execution_count": null,
   "metadata": {},
   "outputs": [],
   "source": [
    "meas_ids=[\n",
    " 2000000043,\n",
    " 3020891,\n",
    " 3000963,\n",
    " 3028406,\n",
    " 3027018,\n",
    " 3024171,\n",
    " 3004249,\n",
    " 3012888,\n",
    " 3009542,\n",
    " 3024731,\n",
    " 3012030,\n",
    " 3010813,\n",
    " 3009744,\n",
    " 3010910,\n",
    " 3022174,\n",
    " 3007461,\n",
    " 3049383,\n",
    " 3045424,\n",
    " 3002030,\n",
    " 40762499,\n",
    " 3020951,\n",
    " 3017354,\n",
    " 3019069,\n",
    " 3017732,\n",
    " 3020416,\n",
    " 3037577,\n",
    " 3019198,\n",
    " 3001604,\n",
    " 3006504,\n",
    " 3022640,\n",
    " 3019550,\n",
    " 3014576,\n",
    " 3006906,\n",
    " 3013682,\n",
    " 3004501,\n",
    " 3016723,\n",
    " 3043111,\n",
    " 3015632,\n",
    " 3013115,\n",
    " 3023103,\n",
    "\n",
    " 3024128,\n",
    " 3022621,\n",
    " 3000330,\n",
    " 3006315,\n",
    " 3024629,\n",
    " 3007950,\n",
    "\n",
    " \n",
    " 3031147,\n",
    " \n",
    " 3024561,\n",
    " 3035995,\n",
    " 3020630,\n",
    " 3006923]"
   ]
  },
  {
   "cell_type": "code",
   "execution_count": null,
   "metadata": {},
   "outputs": [],
   "source": [
    "meas=meas[meas['fact_id'].isin(meas_ids)]"
   ]
  },
  {
   "cell_type": "code",
   "execution_count": null,
   "metadata": {},
   "outputs": [],
   "source": [
    "meas['fact_id'].nunique()"
   ]
  },
  {
   "cell_type": "code",
   "execution_count": null,
   "metadata": {},
   "outputs": [],
   "source": [
    "meas_dict=dict(zip(meas['fact_id'],meas['fact']))\n",
    "import pickle\n",
    "with open(\"data/5/measVocab\", 'wb') as fp:\n",
    "        pickle.dump(meas_dict, fp)"
   ]
  },
  {
   "cell_type": "code",
   "execution_count": null,
   "metadata": {},
   "outputs": [],
   "source": [
    "meas_dict"
   ]
  },
  {
   "cell_type": "code",
   "execution_count": null,
   "metadata": {},
   "outputs": [],
   "source": [
    "meas['fact'].unique()"
   ]
  },
  {
   "cell_type": "code",
   "execution_count": null,
   "metadata": {},
   "outputs": [],
   "source": [
    "meas.head()"
   ]
  },
  {
   "cell_type": "code",
   "execution_count": null,
   "metadata": {},
   "outputs": [],
   "source": [
    "meas['fact_id']=meas['fact_id'].astype(int)"
   ]
  },
  {
   "cell_type": "code",
   "execution_count": null,
   "metadata": {},
   "outputs": [],
   "source": []
  },
  {
   "cell_type": "code",
   "execution_count": null,
   "metadata": {},
   "outputs": [],
   "source": []
  },
  {
   "cell_type": "code",
   "execution_count": null,
   "metadata": {},
   "outputs": [],
   "source": []
  },
  {
   "cell_type": "code",
   "execution_count": null,
   "metadata": {},
   "outputs": [],
   "source": [
    "from tqdm import tqdm\n",
    "import numpy as np\n",
    "t=3\n",
    "feat=meas['fact_id'].unique()\n",
    "\n",
    "pids=meas['person_id'].unique()\n",
    "final_labs=pd.DataFrame()\n",
    "for i in tqdm(range(0,12,3)): \n",
    "    sub_labs=meas[(meas['Age']>=i) & (meas['Age']<i+3)].groupby(['person_id','fact_id']).agg({'val':'median'})\n",
    "    sub_labs=sub_labs.reset_index()\n",
    "    sub_labs=sub_labs.pivot_table(index='person_id',columns='fact_id',values='val')\n",
    "    \n",
    "    sub_labs=sub_labs.reset_index()\n",
    "    sub_labs.columns.name=None\n",
    "    sub_labs=sub_labs.reset_index(drop=True)\n",
    "    feat_df=pd.DataFrame(columns=list(set(feat)-set(list(sub_labs.columns))))\n",
    "    if not feat_df.empty:\n",
    "        sub_labs=pd.concat([sub_labs,feat_df],axis=1)\n",
    "    \n",
    "    pid_col=sub_labs['person_id']\n",
    "    sub_labs=sub_labs[feat]\n",
    "    #print(sub_labs.head())\n",
    "    #print(pid_col.head())\n",
    "    sub_labs=pd.concat([sub_labs,pid_col],axis=1)\n",
    "    #print(sub_labs.head())\n",
    "    pid_df=pd.DataFrame(columns=feat)\n",
    "    #print(list(set(pids)-set(sub_labs['person_id'].unique())))\n",
    "    temp=pd.Series(list(set(pids)-set(sub_labs['person_id'].unique())),name='person_id')\n",
    "    #print(temp)\n",
    "    for _ in range(temp.shape[0]):\n",
    "        pid_df = pid_df.append(pd.Series(), ignore_index=True)\n",
    "    pid_df=pd.concat([pid_df,temp],axis=1)\n",
    "    #print(pid_df.head())\n",
    "    sub_labs=pd.concat([sub_labs,pid_df],axis=0)\n",
    "    \n",
    "    sub_labs['Age']=t\n",
    "    print(sub_labs.shape)\n",
    "    #print(sub_labs.head())\n",
    "    if final_labs.empty:\n",
    "        final_labs=sub_labs\n",
    "    else:    \n",
    "        final_labs=final_labs.append(sub_labs)\n",
    "    \n",
    "    t=t+3"
   ]
  },
  {
   "cell_type": "code",
   "execution_count": null,
   "metadata": {},
   "outputs": [],
   "source": [
    "from tqdm import tqdm\n",
    "import numpy as np\n",
    "t=18\n",
    "feat=meas['fact_id'].unique()\n",
    "\n",
    "pids=meas['person_id'].unique()\n",
    "final_labs2=pd.DataFrame()\n",
    "for i in tqdm(range(12,24,6)): \n",
    "    sub_labs=meas[(meas['Age']>=i) & (meas['Age']<i+3)].groupby(['person_id','fact_id']).agg({'val':'median'})\n",
    "    \n",
    "    sub_labs=sub_labs.reset_index()\n",
    "    sub_labs=sub_labs.pivot_table(index='person_id',columns='fact_id',values='val')\n",
    "    \n",
    "    sub_labs=sub_labs.reset_index()\n",
    "    sub_labs.columns.name=None\n",
    "    sub_labs=sub_labs.reset_index(drop=True)\n",
    "    feat_df=pd.DataFrame(columns=list(set(feat)-set(list(sub_labs.columns))))\n",
    "    if not feat_df.empty:\n",
    "        sub_labs=pd.concat([sub_labs,feat_df],axis=1)\n",
    "    \n",
    "    pid_col=sub_labs['person_id']\n",
    "    sub_labs=sub_labs[feat]\n",
    "    #print(sub_labs.head())\n",
    "    #print(pid_col.head())\n",
    "    sub_labs=pd.concat([sub_labs,pid_col],axis=1)\n",
    "    #print(sub_labs.head())\n",
    "    pid_df=pd.DataFrame(columns=feat)\n",
    "    #print(list(set(pids)-set(sub_labs['person_id'].unique())))\n",
    "    temp=pd.Series(list(set(pids)-set(sub_labs['person_id'].unique())),name='person_id')\n",
    "    #print(temp)\n",
    "    for _ in range(temp.shape[0]):\n",
    "        pid_df = pid_df.append(pd.Series(), ignore_index=True)\n",
    "    pid_df=pd.concat([pid_df,temp],axis=1)\n",
    "    #print(pid_df.head())\n",
    "    sub_labs=pd.concat([sub_labs,pid_df],axis=0)\n",
    "    \n",
    "    sub_labs['Age']=t\n",
    "    print(sub_labs.shape)\n",
    "    #print(sub_labs.head())\n",
    "    if final_labs.empty:\n",
    "        final_labs2=sub_labs\n",
    "    else:    \n",
    "        final_labs2=final_labs2.append(sub_labs)\n",
    "    \n",
    "    t=t+6"
   ]
  },
  {
   "cell_type": "code",
   "execution_count": null,
   "metadata": {},
   "outputs": [],
   "source": [
    "final_input=pd.concat([final_labs,final_labs2],axis=0)"
   ]
  },
  {
   "cell_type": "code",
   "execution_count": null,
   "metadata": {},
   "outputs": [],
   "source": [
    "final_input.head()"
   ]
  },
  {
   "cell_type": "code",
   "execution_count": null,
   "metadata": {},
   "outputs": [],
   "source": [
    "bmi=final_input[['person_id','Age',3001537,3013762,3023540]]\n",
    "del final_input[3001537]\n",
    "del final_input[3013762]\n",
    "del final_input[3023540]"
   ]
  },
  {
   "cell_type": "code",
   "execution_count": null,
   "metadata": {},
   "outputs": [],
   "source": [
    "final_input=final_input.sort_values(by=['person_id','Age'])\n",
    "bmi=bmi.sort_values(by=['person_id','Age'])"
   ]
  },
  {
   "cell_type": "code",
   "execution_count": null,
   "metadata": {},
   "outputs": [],
   "source": [
    "bmi.head()"
   ]
  },
  {
   "cell_type": "code",
   "execution_count": null,
   "metadata": {},
   "outputs": [],
   "source": [
    "bmi=bmi.pivot_table(index='person_id',columns='Age',values='label')\n",
    "bmi=bmi.reset_index()\n",
    "bmi.head()"
   ]
  },
  {
   "cell_type": "code",
   "execution_count": null,
   "metadata": {},
   "outputs": [],
   "source": [
    "bmi.replace(0, np.nan, inplace=True)\n",
    "bmi.head()"
   ]
  },
  {
   "cell_type": "code",
   "execution_count": null,
   "metadata": {},
   "outputs": [],
   "source": [
    "bmi=bmi.bfill(axis=1).ffill(axis=1)\n",
    "bmi.head()"
   ]
  },
  {
   "cell_type": "code",
   "execution_count": null,
   "metadata": {},
   "outputs": [],
   "source": [
    "bmi.to_csv('bmi_02.csv',index=False)"
   ]
  },
  {
   "cell_type": "code",
   "execution_count": null,
   "metadata": {},
   "outputs": [],
   "source": [
    "bmi_pct=bmi.iloc[:,1:].pct_change(axis='columns')"
   ]
  },
  {
   "cell_type": "code",
   "execution_count": null,
   "metadata": {},
   "outputs": [],
   "source": [
    "bmi_pct=pd.concat([bmi['person_id'],bmi_pct],axis=1)"
   ]
  },
  {
   "cell_type": "code",
   "execution_count": null,
   "metadata": {},
   "outputs": [],
   "source": [
    "bmi_pct.to_csv('bmi_pct_02.csv',index=False)"
   ]
  },
  {
   "cell_type": "code",
   "execution_count": null,
   "metadata": {},
   "outputs": [],
   "source": [
    "bmi_pct=pd.read_csv('data/4/bmi_pct_02.csv',header=0)"
   ]
  },
  {
   "cell_type": "code",
   "execution_count": null,
   "metadata": {},
   "outputs": [],
   "source": [
    "bmi_pct.head()"
   ]
  },
  {
   "cell_type": "code",
   "execution_count": null,
   "metadata": {},
   "outputs": [],
   "source": [
    "del bmi_pct['3']\n",
    "cols_to_std=list(bmi_pct.columns)\n",
    "cols_to_std=cols_to_std[1:]\n",
    "cols_to_std"
   ]
  },
  {
   "cell_type": "code",
   "execution_count": null,
   "metadata": {},
   "outputs": [],
   "source": [
    "for index in range(len(cols_to_std)):\n",
    "    bmi_pct[cols_to_std[index]], qcut_intervals = pd.qcut(bmi_pct[cols_to_std[index]], 5, labels=False, duplicates='drop',retbins=True)\n",
    "    print(qcut_intervals)"
   ]
  },
  {
   "cell_type": "code",
   "execution_count": null,
   "metadata": {},
   "outputs": [],
   "source": [
    "qcut_intervals"
   ]
  },
  {
   "cell_type": "code",
   "execution_count": null,
   "metadata": {},
   "outputs": [],
   "source": [
    "del bmi_pct[24]"
   ]
  },
  {
   "cell_type": "code",
   "execution_count": null,
   "metadata": {},
   "outputs": [],
   "source": [
    "bmi_pct"
   ]
  },
  {
   "cell_type": "code",
   "execution_count": null,
   "metadata": {},
   "outputs": [],
   "source": [
    "bmi_pct"
   ]
  },
  {
   "cell_type": "code",
   "execution_count": null,
   "metadata": {},
   "outputs": [],
   "source": [
    "bmi_pct1=pd.melt(bmi_pct, id_vars=['person_id'], value_vars=[6, 9, 12, 18])"
   ]
  },
  {
   "cell_type": "code",
   "execution_count": null,
   "metadata": {},
   "outputs": [],
   "source": [
    "bmi_pct1=bmi_pct1.sort_values(by=['person_id','variable'])"
   ]
  },
  {
   "cell_type": "code",
   "execution_count": null,
   "metadata": {},
   "outputs": [],
   "source": [
    "bmi_pct1.to_csv('bmi_pct_enc_02.csv',index=False)"
   ]
  },
  {
   "cell_type": "code",
   "execution_count": null,
   "metadata": {},
   "outputs": [],
   "source": [
    "cols_to_std=list(final_input.columns)\n",
    "cols_to_std=cols_to_std[:len(cols_to_std)-2]"
   ]
  },
  {
   "cell_type": "code",
   "execution_count": null,
   "metadata": {},
   "outputs": [],
   "source": [
    "for index in range(len(cols_to_std)):\n",
    "    final_input[cols_to_std[index]], qcut_intervals = pd.qcut(final_input[cols_to_std[index]], 5, labels=False, duplicates='drop',retbins=True)"
   ]
  },
  {
   "cell_type": "code",
   "execution_count": null,
   "metadata": {},
   "outputs": [],
   "source": [
    "final_input"
   ]
  },
  {
   "cell_type": "code",
   "execution_count": null,
   "metadata": {},
   "outputs": [],
   "source": [
    "final_input['person_id'].nunique()"
   ]
  },
  {
   "cell_type": "code",
   "execution_count": null,
   "metadata": {},
   "outputs": [],
   "source": [
    "final_input1=pd.melt(final_input, id_vars=['person_id','Age'], value_vars=cols_to_std)"
   ]
  },
  {
   "cell_type": "code",
   "execution_count": null,
   "metadata": {},
   "outputs": [],
   "source": [
    "final_input1['person_id'].nunique()"
   ]
  },
  {
   "cell_type": "code",
   "execution_count": null,
   "metadata": {},
   "outputs": [],
   "source": [
    "final_input1.head()"
   ]
  },
  {
   "cell_type": "code",
   "execution_count": null,
   "metadata": {},
   "outputs": [],
   "source": [
    "final_input1=final_input1.dropna()"
   ]
  },
  {
   "cell_type": "code",
   "execution_count": null,
   "metadata": {},
   "outputs": [],
   "source": [
    "final_input1=final_input1.sort_values(by=['person_id','Age'])\n"
   ]
  },
  {
   "cell_type": "code",
   "execution_count": null,
   "metadata": {},
   "outputs": [],
   "source": []
  },
  {
   "cell_type": "code",
   "execution_count": null,
   "metadata": {},
   "outputs": [],
   "source": [
    "final_input1['value']=final_input1['variable'].astype(str)+str('_')+final_input1['value'].astype(int).astype(str)\n",
    "final_input1.head()"
   ]
  },
  {
   "cell_type": "code",
   "execution_count": null,
   "metadata": {},
   "outputs": [],
   "source": [
    "final_input1.groupby('person_id').count()['Age'].max()"
   ]
  },
  {
   "cell_type": "code",
   "execution_count": null,
   "metadata": {},
   "outputs": [],
   "source": [
    "final_input1.groupby('person_id').count()['Age'].mean()"
   ]
  },
  {
   "cell_type": "code",
   "execution_count": null,
   "metadata": {},
   "outputs": [],
   "source": [
    "final_input1.groupby('person_id').count()['Age'].std()"
   ]
  },
  {
   "cell_type": "code",
   "execution_count": null,
   "metadata": {},
   "outputs": [],
   "source": [
    "final_input1=final_input1.reset_index(drop=True)"
   ]
  },
  {
   "cell_type": "code",
   "execution_count": null,
   "metadata": {},
   "outputs": [],
   "source": [
    "final_input1.person_id.nunique()"
   ]
  },
  {
   "cell_type": "code",
   "execution_count": null,
   "metadata": {},
   "outputs": [],
   "source": [
    "final_input1.to_csv('data/4/meas_02_5.csv',index=False)"
   ]
  },
  {
   "cell_type": "markdown",
   "metadata": {},
   "source": [
    "### BMI SIGNAL AFTER 2"
   ]
  },
  {
   "cell_type": "code",
   "execution_count": null,
   "metadata": {},
   "outputs": [],
   "source": [
    "meas=pd.read_csv('meas2.csv',header=0)\n",
    "meas['val'] = pd.to_numeric(meas['val'], errors='coerce')\n",
    "pt=pd.read_csv('patientVisitAge.csv',header=0)\n",
    "meas=pd.merge(meas,pt[['person_id','visit_occurrence_id','Age']],on=['person_id','visit_occurrence_id'],how='left')\n",
    "meas=meas.dropna()\n",
    "meas['Age']=meas['Age']*12\n",
    "meas['Age']=meas['Age'].astype(int)\n",
    "meas=meas[meas['Age']>24]\n",
    "meas=meas[meas['Age']<=120]\n",
    "\n",
    "meas=meas[meas['fact_id'].isin(['person_id','Age',3013762,3023540])]"
   ]
  },
  {
   "cell_type": "code",
   "execution_count": null,
   "metadata": {},
   "outputs": [],
   "source": [
    "meas.head()"
   ]
  },
  {
   "cell_type": "code",
   "execution_count": null,
   "metadata": {},
   "outputs": [],
   "source": [
    "from tqdm import tqdm\n",
    "import numpy as np\n",
    "t=36\n",
    "feat=meas['fact_id'].unique()\n",
    "\n",
    "pids=meas['person_id'].unique()\n",
    "final_labs=pd.DataFrame()\n",
    "for i in tqdm(range(24,120,12)): \n",
    "    sub_labs=meas[(meas['Age']>=i) & (meas['Age']<i+12)].groupby(['person_id','fact_id']).agg({'val':'median'})\n",
    "    sub_labs=sub_labs.reset_index()\n",
    "    sub_labs=sub_labs.pivot_table(index='person_id',columns='fact_id',values='val')\n",
    "    \n",
    "    sub_labs=sub_labs.reset_index()\n",
    "    sub_labs.columns.name=None\n",
    "    sub_labs=sub_labs.reset_index(drop=True)\n",
    "    feat_df=pd.DataFrame(columns=list(set(feat)-set(list(sub_labs.columns))))\n",
    "    if not feat_df.empty:\n",
    "        sub_labs=pd.concat([sub_labs,feat_df],axis=1)\n",
    "    \n",
    "    pid_col=sub_labs['person_id']\n",
    "    sub_labs=sub_labs[feat]\n",
    "    #print(sub_labs.head())\n",
    "    #print(pid_col.head())\n",
    "    sub_labs=pd.concat([sub_labs,pid_col],axis=1)\n",
    "    #print(sub_labs.head())\n",
    "    pid_df=pd.DataFrame(columns=feat)\n",
    "    #print(list(set(pids)-set(sub_labs['person_id'].unique())))\n",
    "    temp=pd.Series(list(set(pids)-set(sub_labs['person_id'].unique())),name='person_id')\n",
    "    #print(temp)\n",
    "    for _ in range(temp.shape[0]):\n",
    "        pid_df = pid_df.append(pd.Series(), ignore_index=True)\n",
    "    pid_df=pd.concat([pid_df,temp],axis=1)\n",
    "    #print(pid_df.head())\n",
    "    sub_labs=pd.concat([sub_labs,pid_df],axis=0)\n",
    "    \n",
    "    sub_labs['Age']=t\n",
    "    print(sub_labs.shape)\n",
    "    #print(sub_labs.head())\n",
    "    if final_labs.empty:\n",
    "        final_labs=sub_labs\n",
    "    else:    \n",
    "        final_labs=final_labs.append(sub_labs)\n",
    "    \n",
    "    t=t+12"
   ]
  },
  {
   "cell_type": "code",
   "execution_count": null,
   "metadata": {},
   "outputs": [],
   "source": [
    "final_labs.head()"
   ]
  },
  {
   "cell_type": "code",
   "execution_count": null,
   "metadata": {},
   "outputs": [],
   "source": [
    "final_labs=final_labs[['person_id','Age','BMI','label']]"
   ]
  },
  {
   "cell_type": "code",
   "execution_count": null,
   "metadata": {},
   "outputs": [],
   "source": [
    "final_labs.to_csv('data/4/rawbmi_after2.csv',index=False)"
   ]
  },
  {
   "cell_type": "code",
   "execution_count": null,
   "metadata": {},
   "outputs": [],
   "source": [
    "ob=final_labs[['person_id','Age','label']]\n",
    "ob['ob_label']=0\n",
    "ob['over_label']=0\n",
    "ob.loc[ob['label']>=95,'ob_label']=1\n",
    "ob.loc[(ob['label']>=85) & (ob['label']<95),'over_label']=1\n",
    "ob.head()"
   ]
  },
  {
   "cell_type": "code",
   "execution_count": null,
   "metadata": {},
   "outputs": [],
   "source": [
    "bmi=final_labs.pivot_table(index='person_id',columns='Age',values='label')\n",
    "bmi=bmi.reset_index()\n",
    "bmi.head()"
   ]
  },
  {
   "cell_type": "code",
   "execution_count": null,
   "metadata": {},
   "outputs": [],
   "source": [
    "bmi_pad=bmi.iloc[:,1:].interpolate(method='linear', limit_direction='both', limit_area='inside',axis=1)"
   ]
  },
  {
   "cell_type": "code",
   "execution_count": null,
   "metadata": {},
   "outputs": [],
   "source": [
    "bmi_mask=bmi_pad.fillna(0)\n",
    "bmi_mask[bmi_mask>0]=1\n",
    "bmi_mask"
   ]
  },
  {
   "cell_type": "code",
   "execution_count": null,
   "metadata": {},
   "outputs": [],
   "source": [
    "bmi_ob=bmi_pad.fillna(0)\n",
    "bmi_ob[bmi_ob<95]=0\n",
    "bmi_ob[bmi_ob>=95]=1\n",
    "bmi_ob"
   ]
  },
  {
   "cell_type": "code",
   "execution_count": null,
   "metadata": {},
   "outputs": [],
   "source": [
    "bmi_pad=pd.concat([bmi[['person_id']],bmi_pad],axis=1)\n",
    "bmi_pad"
   ]
  },
  {
   "cell_type": "code",
   "execution_count": null,
   "metadata": {},
   "outputs": [],
   "source": [
    "bmi_pad.to_csv('data/4/bmiPad_after2.csv',index=False)"
   ]
  },
  {
   "cell_type": "code",
   "execution_count": null,
   "metadata": {},
   "outputs": [],
   "source": [
    "bmi_mask=pd.concat([bmi[['person_id']],bmi_mask],axis=1)\n",
    "bmi_mask.to_csv('data/4/bmiMask_after2.csv',index=False)"
   ]
  },
  {
   "cell_type": "code",
   "execution_count": null,
   "metadata": {},
   "outputs": [],
   "source": [
    "bmi_ob=pd.concat([bmi[['person_id']],bmi_ob],axis=1)\n",
    "bmi_ob.to_csv('data/4/bmiOb_after2.csv',index=False)"
   ]
  },
  {
   "cell_type": "code",
   "execution_count": null,
   "metadata": {},
   "outputs": [],
   "source": []
  },
  {
   "cell_type": "markdown",
   "metadata": {},
   "source": [
    "### MEAS AFTER 2"
   ]
  },
  {
   "cell_type": "code",
   "execution_count": null,
   "metadata": {},
   "outputs": [],
   "source": [
    "meas=pd.read_csv('meas2.csv',header=0)\n",
    "meas['val'] = pd.to_numeric(meas['val'], errors='coerce')\n",
    "pt=pd.read_csv('patientVisitAge.csv',header=0)\n",
    "meas=pd.merge(meas,pt[['person_id','visit_occurrence_id','Age']],on=['person_id','visit_occurrence_id'],how='left')\n",
    "meas=meas.dropna()\n",
    "meas['Age']=meas['Age']*12\n",
    "meas['Age']=meas['Age'].astype(int)\n",
    "meas=meas[meas['Age']>24]\n",
    "meas=meas[meas['Age']<=120]\n",
    "\n",
    "meas=meas[meas['fact_id'].isin(meas_ids)]"
   ]
  },
  {
   "cell_type": "code",
   "execution_count": null,
   "metadata": {},
   "outputs": [],
   "source": [
    "from tqdm import tqdm\n",
    "import numpy as np\n",
    "t=36\n",
    "feat=meas['fact_id'].unique()\n",
    "\n",
    "pids=meas['person_id'].unique()\n",
    "final_labs=pd.DataFrame()\n",
    "for i in tqdm(range(24,120,12)): \n",
    "    sub_labs=meas[(meas['Age']>=i) & (meas['Age']<i+12)].groupby(['person_id','fact_id']).agg({'val':'median'})\n",
    "    sub_labs=sub_labs.reset_index()\n",
    "    sub_labs=sub_labs.pivot_table(index='person_id',columns='fact_id',values='val')\n",
    "    \n",
    "    sub_labs=sub_labs.reset_index()\n",
    "    sub_labs.columns.name=None\n",
    "    sub_labs=sub_labs.reset_index(drop=True)\n",
    "    feat_df=pd.DataFrame(columns=list(set(feat)-set(list(sub_labs.columns))))\n",
    "    if not feat_df.empty:\n",
    "        sub_labs=pd.concat([sub_labs,feat_df],axis=1)\n",
    "    \n",
    "    pid_col=sub_labs['person_id']\n",
    "    sub_labs=sub_labs[feat]\n",
    "    #print(sub_labs.head())\n",
    "    #print(pid_col.head())\n",
    "    sub_labs=pd.concat([sub_labs,pid_col],axis=1)\n",
    "    #print(sub_labs.head())\n",
    "    pid_df=pd.DataFrame(columns=feat)\n",
    "    #print(list(set(pids)-set(sub_labs['person_id'].unique())))\n",
    "    temp=pd.Series(list(set(pids)-set(sub_labs['person_id'].unique())),name='person_id')\n",
    "    #print(temp)\n",
    "    for _ in range(temp.shape[0]):\n",
    "        pid_df = pid_df.append(pd.Series(), ignore_index=True)\n",
    "    pid_df=pd.concat([pid_df,temp],axis=1)\n",
    "    #print(pid_df.head())\n",
    "    sub_labs=pd.concat([sub_labs,pid_df],axis=0)\n",
    "    \n",
    "    sub_labs['Age']=t\n",
    "    print(sub_labs.shape)\n",
    "    #print(sub_labs.head())\n",
    "    if final_labs.empty:\n",
    "        final_labs=sub_labs\n",
    "    else:    \n",
    "        final_labs=final_labs.append(sub_labs)\n",
    "    \n",
    "    t=t+12"
   ]
  },
  {
   "cell_type": "code",
   "execution_count": null,
   "metadata": {},
   "outputs": [],
   "source": [
    "final_labs=final_labs.sort_values(by=['person_id','Age'])\n",
    "final_labs"
   ]
  },
  {
   "cell_type": "code",
   "execution_count": null,
   "metadata": {},
   "outputs": [],
   "source": [
    "cols_to_std=list(final_labs.columns)\n",
    "cols_to_std=cols_to_std[:len(cols_to_std)-2]"
   ]
  },
  {
   "cell_type": "code",
   "execution_count": null,
   "metadata": {},
   "outputs": [],
   "source": [
    "for index in range(len(cols_to_std)):\n",
    "    final_labs[cols_to_std[index]], qcut_intervals = pd.qcut(final_labs[cols_to_std[index]], 5, labels=False, duplicates='drop',retbins=True)"
   ]
  },
  {
   "cell_type": "code",
   "execution_count": null,
   "metadata": {},
   "outputs": [],
   "source": [
    "del final_labs[3001537]\n",
    "del final_labs[3013762]\n",
    "del final_labs[3023540]"
   ]
  },
  {
   "cell_type": "code",
   "execution_count": null,
   "metadata": {},
   "outputs": [],
   "source": [
    "cols_to_std=list(final_labs.columns)\n",
    "cols_to_std=cols_to_std[:len(cols_to_std)-2]"
   ]
  },
  {
   "cell_type": "code",
   "execution_count": null,
   "metadata": {},
   "outputs": [],
   "source": [
    "final_input1=pd.melt(final_labs, id_vars=['person_id','Age'], value_vars=cols_to_std)\n",
    "final_input1"
   ]
  },
  {
   "cell_type": "code",
   "execution_count": null,
   "metadata": {},
   "outputs": [],
   "source": [
    "final_input1=final_input1.fillna(-1)\n",
    "extra=final_input1[final_input1['value']==-1]\n",
    "final_input1=final_input1[final_input1['value']>-1]\n",
    "extra.loc[extra['value']==-1,'value']=0"
   ]
  },
  {
   "cell_type": "code",
   "execution_count": null,
   "metadata": {},
   "outputs": [],
   "source": [
    "final_input1['value']=final_input1['variable'].astype(str)+str('_')+final_input1['value'].astype(int).astype(str)\n",
    "final_input1.head()"
   ]
  },
  {
   "cell_type": "code",
   "execution_count": null,
   "metadata": {},
   "outputs": [],
   "source": [
    "final_input1=pd.concat([final_input1,extra],axis=0)\n",
    "final_input1"
   ]
  },
  {
   "cell_type": "code",
   "execution_count": null,
   "metadata": {},
   "outputs": [],
   "source": [
    "final_input1=final_input1.sort_values(by=['person_id','Age'])\n",
    "final_input1.head()"
   ]
  },
  {
   "cell_type": "code",
   "execution_count": null,
   "metadata": {},
   "outputs": [],
   "source": [
    "final_input1.value.nunique()"
   ]
  },
  {
   "cell_type": "code",
   "execution_count": null,
   "metadata": {},
   "outputs": [],
   "source": [
    "final_input1=final_input1.drop_duplicates()"
   ]
  },
  {
   "cell_type": "code",
   "execution_count": null,
   "metadata": {},
   "outputs": [],
   "source": [
    "final_input2=final_input1.pivot_table(index=['person_id','Age'],columns='variable',values='value', aggfunc='first')\n",
    "final_input2=final_input2.reset_index()\n",
    "final_input2.head()"
   ]
  },
  {
   "cell_type": "code",
   "execution_count": null,
   "metadata": {},
   "outputs": [],
   "source": [
    "final_input2=final_input2.fillna(0)\n",
    "final_input2=final_input2.sort_values(by=['person_id','Age'])\n",
    "final_input2.head()"
   ]
  },
  {
   "cell_type": "code",
   "execution_count": null,
   "metadata": {},
   "outputs": [],
   "source": [
    "final_input2.to_csv('data/4/meas_after2.csv',index=False)"
   ]
  },
  {
   "cell_type": "code",
   "execution_count": null,
   "metadata": {},
   "outputs": [],
   "source": [
    "final_input2.shape"
   ]
  },
  {
   "cell_type": "code",
   "execution_count": null,
   "metadata": {},
   "outputs": [],
   "source": [
    "final_input2.person_id.nunique()"
   ]
  },
  {
   "cell_type": "code",
   "execution_count": null,
   "metadata": {},
   "outputs": [],
   "source": [
    "train_id=pd.read_csv('data/4/train_ids.csv',header=0)\n",
    "test_id=pd.read_csv('data/4/test_ids.csv',header=0)"
   ]
  },
  {
   "cell_type": "code",
   "execution_count": null,
   "metadata": {},
   "outputs": [],
   "source": [
    "train_id.shape"
   ]
  },
  {
   "cell_type": "code",
   "execution_count": null,
   "metadata": {},
   "outputs": [],
   "source": [
    "45600+14157"
   ]
  },
  {
   "cell_type": "code",
   "execution_count": null,
   "metadata": {},
   "outputs": [],
   "source": [
    "test_id.shape"
   ]
  },
  {
   "cell_type": "markdown",
   "metadata": {},
   "source": [
    "### Cond for decoder"
   ]
  },
  {
   "cell_type": "code",
   "execution_count": null,
   "metadata": {},
   "outputs": [],
   "source": [
    "cond=pd.read_csv('cond_cohort.csv',header=0)\n",
    "cond=cond[cond['Age']<=120]\n",
    "cond['val']=1\n",
    "del cond['visit_occurrence_id']\n",
    "del cond['fact_id']\n",
    "del cond['Sex']\n",
    "cond=cond.drop_duplicates()\n",
    "cond.head()"
   ]
  },
  {
   "cell_type": "code",
   "execution_count": null,
   "metadata": {},
   "outputs": [],
   "source": [
    "cond.fact.unique()"
   ]
  },
  {
   "cell_type": "code",
   "execution_count": null,
   "metadata": {},
   "outputs": [],
   "source": [
    "print(cond.shape)\n",
    "print(cond.person_id.nunique())\n",
    "print(cond.fact.nunique())"
   ]
  },
  {
   "cell_type": "code",
   "execution_count": null,
   "metadata": {},
   "outputs": [],
   "source": [
    "146-67"
   ]
  },
  {
   "cell_type": "code",
   "execution_count": null,
   "metadata": {},
   "outputs": [],
   "source": [
    "fh=[  'FH: Diabetes mellitus',\n",
    "\t   'FH: Cardiovascular disease',\n",
    "       'Family history of asthma',\n",
    "       'Family history of genetic disorder carrier',\n",
    "       'FH: Gastrointestinal disease', \n",
    "\t   'FH: Thrombosis',\n",
    "       'FH: Drug dependency',\n",
    "       'Family history of cardiovascular disease in first degree male relative less than 55 years of age',\n",
    "       'FH: Myocardial infarction',\n",
    "       'Family history of sudden cardiac death',\n",
    "       'Family history of kidney disease',\n",
    "       'Family history of chronic renal impairment',\n",
    "       'Family history of neurological disorder',\n",
    "       'Family history of cancer', \n",
    "\t   'FH: Hypercholesterolemia',\n",
    "       'Family history of autism',\n",
    "       'Family history of ischemic heart disease',\n",
    "       'Family history of mental disorder',\n",
    "       'Family history of learning disability', \n",
    "\t   'FH: Depression',\n",
    "       'Family history of victim of physical abuse',\n",
    "       'Family history of problem behavior',\n",
    "       'Family history of thromboembolic disorder',\n",
    "       'Family history of development disorder', \n",
    "\t   'FH: Thyroid disorder',\n",
    "       'FH: Muscular dystrophy',\n",
    "       'Family history of diabetes mellitus type 1',\n",
    "       'Family history of hyperlipidemia', \n",
    "\t   'Family history of alcoholism',\n",
    "       'FH: Cardiac disorder',\n",
    "       'Family history of intellectual disability',\n",
    "       'Family history of disorder of pancreas',\n",
    "       'Family history of blood coagulation disorder',\n",
    "       'Family history of malignant neoplasm of thyroid',\n",
    "       'Family history of attention deficit hyperactivity disorder',\n",
    "       'Family history of substance abuse',\n",
    "\t   'Family history of stroke',\n",
    "       'Family history of Von Willebrand disease',\n",
    "       'Family history of heart failure',\n",
    "       'Family history of autism in sibling', \n",
    "\t   'FH: Obesity',\n",
    "       'Family history of conduction disorder of the heart',\n",
    "       'FH: Hypertension', \n",
    "\t   'Family history of consanguinity',\n",
    "       'Family history of aneurysm of thoracic aorta',\n",
    "       'FH: Neoplasm of CNS',\n",
    "\t   'FH: Cardiomyopathy',\n",
    "       'Family history of polycystic ovary syndrome',\n",
    "       'Family history of coronary arteriosclerosis',\n",
    "       'FH: Diabetes mellitus in first degree relative',\n",
    "       'FH: premature coronary heart disease', \n",
    "\t   'FH: Hypothyroidism',\n",
    "       'Family history of neoplasm',\n",
    "\t   'FH: Obstetric problem',\n",
    "       'Family history of Graves disease', \n",
    "\t   'FH: Manic-depressive state',\n",
    "       'Family history of Hashimoto thyroiditis',\n",
    "       'FH: Raised blood lipids',\n",
    "\t   'Family history of Marfan syndrome',\n",
    "       'Family history of cardiac arrhythmia',\n",
    "       'Family history of stenosis of aortic valve',\n",
    "       'Family history of fragile X syndrome',\n",
    "       'Family history of diabetes mellitus type 2',\n",
    "       'Family history of smoking', \n",
    "\t   'FH: Chromosomal anomaly',\n",
    "       'Family history of aneurysm of artery',\n",
    "       'FH: Diabetes in pregnancy', ]"
   ]
  },
  {
   "cell_type": "code",
   "execution_count": null,
   "metadata": {},
   "outputs": [],
   "source": [
    "len(fh)"
   ]
  },
  {
   "cell_type": "code",
   "execution_count": null,
   "metadata": {},
   "outputs": [],
   "source": [
    "from tqdm import tqdm\n",
    "import numpy as np\n",
    "t=36\n",
    "feat=cond['fact'].unique()\n",
    "\n",
    "pids=cond['person_id'].unique()\n",
    "final_conds2=pd.DataFrame()\n",
    "for i in tqdm(range(24,120,12)): \n",
    "    sub_labs=cond[(cond['Age']>=i) & (cond['Age']<i+12)].groupby(['person_id','fact']).agg({'val':np.max})\n",
    "    sub_labs=sub_labs.reset_index()\n",
    "    sub_labs=sub_labs.pivot_table(index='person_id',columns='fact',values='val')\n",
    "    \n",
    "    sub_labs=sub_labs.reset_index()\n",
    "    sub_labs.columns.name=None\n",
    "    sub_labs=sub_labs.reset_index(drop=True)\n",
    "    #print(sub_labs.shape)\n",
    "    #print(list(set(feat)-set(list(sub_labs.columns))))\n",
    "    feat_df=pd.DataFrame(columns=list(set(feat)-set(list(sub_labs.columns))))\n",
    "    #print(feat_df.shape)\n",
    "    if feat_df.shape[1]!=0:\n",
    "        #print(\"hi\")\n",
    "        sub_labs=pd.concat([sub_labs,feat_df],axis=1)\n",
    "    #print(sub_labs.shape)\n",
    "    pid_col=sub_labs['person_id']\n",
    "    #print(sub_labs)\n",
    "    sub_labs=sub_labs[feat]\n",
    "    #print(sub_labs.head())\n",
    "    #print(pid_col.head())\n",
    "    sub_labs=pd.concat([sub_labs,pid_col],axis=1)\n",
    "    #print(sub_labs.head())\n",
    "    pid_df=pd.DataFrame(columns=feat)\n",
    "    #print(list(set(pids)-set(sub_labs['person_id'].unique())))\n",
    "    temp=pd.Series(list(set(pids)-set(sub_labs['person_id'].unique())),name='person_id')\n",
    "    #print(temp)\n",
    "    for _ in range(temp.shape[0]):\n",
    "        pid_df = pid_df.append(pd.Series(), ignore_index=True)\n",
    "    pid_df=pd.concat([pid_df,temp],axis=1)\n",
    "    #print(pid_df.head())\n",
    "    sub_labs=pd.concat([sub_labs,pid_df],axis=0)\n",
    "    \n",
    "    sub_labs['Age']=t\n",
    "    print(sub_labs.shape)\n",
    "    #print(sub_labs.head())\n",
    "    if final_conds2.empty:\n",
    "        final_conds2=sub_labs\n",
    "    else:    \n",
    "        final_conds2=final_conds2.append(sub_labs)\n",
    "    \n",
    "    t=t+12"
   ]
  },
  {
   "cell_type": "code",
   "execution_count": null,
   "metadata": {},
   "outputs": [],
   "source": [
    "final_conds2.to_csv('data/4/cond_after2.csv',index=False)"
   ]
  },
  {
   "cell_type": "code",
   "execution_count": null,
   "metadata": {},
   "outputs": [],
   "source": [
    "final_conds2=pd.read_csv('data/4/final_cond.csv',header=0)"
   ]
  },
  {
   "cell_type": "code",
   "execution_count": null,
   "metadata": {},
   "outputs": [],
   "source": [
    "final_conds2=final_conds2.fillna(0)\n",
    "final_conds2=final_conds2.sort_values(by=['person_id','Age'])\n",
    "final_conds2.head()"
   ]
  },
  {
   "cell_type": "code",
   "execution_count": null,
   "metadata": {},
   "outputs": [],
   "source": [
    "print(final_conds2.shape)\n",
    "print(final_conds2.person_id.nunique())"
   ]
  },
  {
   "cell_type": "markdown",
   "metadata": {},
   "source": [
    "### MED for decoder"
   ]
  },
  {
   "cell_type": "code",
   "execution_count": null,
   "metadata": {},
   "outputs": [],
   "source": [
    "med=pd.read_csv('ATC10.csv',header=0)\n",
    "med=med[med['Age']<=120]\n",
    "med['val']=1\n",
    "med=med[['person_id','mapped_concept_name','Age','val']]\n",
    "med=med.drop_duplicates()\n",
    "med.head()"
   ]
  },
  {
   "cell_type": "code",
   "execution_count": null,
   "metadata": {},
   "outputs": [],
   "source": [
    "med['mapped_concept_name'].nunique()"
   ]
  },
  {
   "cell_type": "code",
   "execution_count": null,
   "metadata": {},
   "outputs": [],
   "source": [
    "med['Age'].max()"
   ]
  },
  {
   "cell_type": "code",
   "execution_count": null,
   "metadata": {},
   "outputs": [],
   "source": [
    "temp=med[med['Age']<=24]\n",
    "del temp['Age']\n",
    "temp=temp.drop_duplicates()\n",
    "temp=temp.groupby(['person_id','mapped_concept_name']).count()\n",
    "temp=temp.reset_index()\n",
    "temp.head()"
   ]
  },
  {
   "cell_type": "code",
   "execution_count": null,
   "metadata": {},
   "outputs": [],
   "source": [
    "temp.shape"
   ]
  },
  {
   "cell_type": "code",
   "execution_count": null,
   "metadata": {},
   "outputs": [],
   "source": [
    "temp=temp.sort_values(by='val',ascending=False)\n",
    "#temp['val']=temp['val']/temp.shape[0]"
   ]
  },
  {
   "cell_type": "code",
   "execution_count": null,
   "metadata": {},
   "outputs": [],
   "source": [
    "temp['val'].mean()"
   ]
  },
  {
   "cell_type": "code",
   "execution_count": null,
   "metadata": {},
   "outputs": [],
   "source": [
    "temp['val'].max()"
   ]
  },
  {
   "cell_type": "code",
   "execution_count": null,
   "metadata": {},
   "outputs": [],
   "source": [
    "temp[temp['val']>=1396].shape"
   ]
  },
  {
   "cell_type": "code",
   "execution_count": null,
   "metadata": {},
   "outputs": [],
   "source": [
    "temp[temp['val']>=1396]['mapped_concept_name']"
   ]
  },
  {
   "cell_type": "code",
   "execution_count": null,
   "metadata": {},
   "outputs": [],
   "source": [
    "print(med.shape)\n",
    "print(med.person_id.nunique())\n",
    "print(med.mapped_concept_name.nunique())"
   ]
  },
  {
   "cell_type": "code",
   "execution_count": null,
   "metadata": {},
   "outputs": [],
   "source": [
    "from tqdm import tqdm\n",
    "import numpy as np\n",
    "t=36\n",
    "feat=med['mapped_concept_name'].unique()\n",
    "\n",
    "pids=med['person_id'].unique()\n",
    "final_conds2=pd.DataFrame()\n",
    "for i in tqdm(range(24,120,12)): \n",
    "    sub_labs=med[(med['Age']>=i) & (med['Age']<i+12)].groupby(['person_id','mapped_concept_name']).agg({'val':np.max})\n",
    "    sub_labs=sub_labs.reset_index()\n",
    "    sub_labs=sub_labs.pivot_table(index='person_id',columns='mapped_concept_name',values='val')\n",
    "    print(sub_labs.shape)\n",
    "    sub_labs=sub_labs.reset_index()\n",
    "    sub_labs.columns.name=None\n",
    "    sub_labs=sub_labs.reset_index(drop=True)\n",
    "    #print(sub_labs.shape)\n",
    "    #print(list(set(feat)-set(list(sub_labs.columns))))\n",
    "    feat_df=pd.DataFrame(columns=list(set(feat)-set(list(sub_labs.columns))))\n",
    "    #print(feat_df.shape)\n",
    "    if feat_df.shape[1]!=0:\n",
    "        #print(\"hi\")\n",
    "        sub_labs=pd.concat([sub_labs,feat_df],axis=1)\n",
    "    print(sub_labs.shape)\n",
    "    pid_col=sub_labs['person_id']\n",
    "    #print(sub_labs)\n",
    "    sub_labs=sub_labs[feat]\n",
    "    #print(sub_labs.head())\n",
    "    #print(pid_col.head())\n",
    "    sub_labs=pd.concat([sub_labs,pid_col],axis=1)\n",
    "    #print(sub_labs.head())\n",
    "    pid_df=pd.DataFrame(columns=feat)\n",
    "    #print(list(set(pids)-set(sub_labs['person_id'].unique())))\n",
    "    temp=pd.Series(list(set(pids)-set(sub_labs['person_id'].unique())),name='person_id')\n",
    "    #print(temp)\n",
    "    for _ in range(temp.shape[0]):\n",
    "        pid_df = pid_df.append(pd.Series(), ignore_index=True)\n",
    "    pid_df=pd.concat([pid_df,temp],axis=1)\n",
    "    #print(pid_df.head())\n",
    "    sub_labs=pd.concat([sub_labs,pid_df],axis=0)\n",
    "    \n",
    "    sub_labs['Age']=t\n",
    "    print(sub_labs.shape)\n",
    "    #print(sub_labs.head())\n",
    "    if final_conds2.empty:\n",
    "        final_conds2=sub_labs\n",
    "    else:    \n",
    "        final_conds2=final_conds2.append(sub_labs)\n",
    "    \n",
    "    t=t+12"
   ]
  },
  {
   "cell_type": "code",
   "execution_count": null,
   "metadata": {},
   "outputs": [],
   "source": [
    "final_conds2.to_csv('data/5/meas_after2.csv',index=False)"
   ]
  },
  {
   "cell_type": "code",
   "execution_count": null,
   "metadata": {},
   "outputs": [],
   "source": [
    "final_conds2=final_conds2.fillna(0)\n",
    "final_conds2=final_conds2.sort_values(by=['person_id','Age'])\n",
    "final_conds2.head()"
   ]
  },
  {
   "cell_type": "code",
   "execution_count": null,
   "metadata": {},
   "outputs": [],
   "source": [
    "print(final_conds2.shape)\n",
    "print(final_conds2.person_id.nunique())"
   ]
  },
  {
   "cell_type": "code",
   "execution_count": null,
   "metadata": {},
   "outputs": [],
   "source": [
    "final_conds2"
   ]
  },
  {
   "cell_type": "markdown",
   "metadata": {},
   "source": [
    "# DEMO"
   ]
  },
  {
   "cell_type": "code",
   "execution_count": null,
   "metadata": {},
   "outputs": [],
   "source": [
    "demo=pd.read_csv('data/4/demo3.csv',header=0)\n",
    "demo=demo.groupby('person_id').first()\n",
    "demo=demo.reset_index()"
   ]
  },
  {
   "cell_type": "code",
   "execution_count": null,
   "metadata": {},
   "outputs": [],
   "source": [
    "demo.head()"
   ]
  },
  {
   "cell_type": "code",
   "execution_count": null,
   "metadata": {},
   "outputs": [],
   "source": [
    "payer=pd.read_csv('data/4/payer.csv',header=0)\n",
    "payer.loc[payer['payer']=='Other/Unknown','payer']='NI'\n",
    "payer.loc[payer['payer']==\"['Medicaid/sCHIP' 'Private/Commercial']\",'payer']='NI'\n",
    "payer.loc[payer['payer']==\"Medicare\",'payer']='NI'"
   ]
  },
  {
   "cell_type": "code",
   "execution_count": null,
   "metadata": {},
   "outputs": [],
   "source": [
    "payer.payer.value_counts()"
   ]
  },
  {
   "cell_type": "code",
   "execution_count": null,
   "metadata": {},
   "outputs": [],
   "source": [
    "demo=pd.merge(demo,payer,on='person_id',how='left')\n",
    "demo.to_csv('data/4/demo.csv',index=False)"
   ]
  },
  {
   "cell_type": "code",
   "execution_count": null,
   "metadata": {},
   "outputs": [],
   "source": []
  },
  {
   "cell_type": "markdown",
   "metadata": {},
   "source": [
    "### COI"
   ]
  },
  {
   "cell_type": "code",
   "execution_count": null,
   "metadata": {},
   "outputs": [],
   "source": [
    "coi=pd.read_csv('coi.csv',header=0)\n",
    "final_ids=pd.read_csv('data/4/tt/all_id.csv',header=0)\n",
    "demo=pd.read_csv('data/4/tt/demo_all.csv',header=0)\n",
    "coi=coi[coi['person_id'].isin(final_ids['person_id'].unique())]\n",
    "coi['coi'], qcut_intervals = pd.qcut(coi['coi'], 10, labels=False, duplicates='drop',retbins=True)\n",
    "coi['coi']='COI_'+coi['coi'].astype(str)\n",
    "coi.head()"
   ]
  },
  {
   "cell_type": "code",
   "execution_count": null,
   "metadata": {},
   "outputs": [],
   "source": [
    "coi=pd.read_csv('coi.csv',header=0)\n",
    "final_ids=pd.read_csv('data/4/tt/all_id.csv',header=0)\n",
    "demo=pd.read_csv('data/4/tt/demo_all.csv',header=0)\n",
    "coi=coi[coi['person_id'].isin(final_ids['person_id'].unique())]\n",
    "coi.head()"
   ]
  },
  {
   "cell_type": "code",
   "execution_count": null,
   "metadata": {},
   "outputs": [],
   "source": [
    "coi['coi'].max()"
   ]
  },
  {
   "cell_type": "code",
   "execution_count": null,
   "metadata": {},
   "outputs": [],
   "source": [
    "coi['coi'].mean()"
   ]
  },
  {
   "cell_type": "code",
   "execution_count": null,
   "metadata": {},
   "outputs": [],
   "source": [
    "coi[(coi['coi']>=1) & (coi['coi']<=4)].shape"
   ]
  },
  {
   "cell_type": "code",
   "execution_count": null,
   "metadata": {},
   "outputs": [],
   "source": [
    "coi[(coi['coi']>=4) & (coi['coi']<=13)].shape"
   ]
  },
  {
   "cell_type": "code",
   "execution_count": null,
   "metadata": {},
   "outputs": [],
   "source": [
    "coi[(coi['coi']>=13) & (coi['coi']<=23)].shape"
   ]
  },
  {
   "cell_type": "code",
   "execution_count": null,
   "metadata": {},
   "outputs": [],
   "source": [
    "coi[(coi['coi']>=89)].shape"
   ]
  },
  {
   "cell_type": "code",
   "execution_count": null,
   "metadata": {},
   "outputs": [],
   "source": [
    "coi.shape"
   ]
  },
  {
   "cell_type": "code",
   "execution_count": null,
   "metadata": {},
   "outputs": [],
   "source": [
    "qcut_intervals"
   ]
  },
  {
   "cell_type": "code",
   "execution_count": null,
   "metadata": {},
   "outputs": [],
   "source": [
    "demo=pd.merge(demo,coi,how='inner',on='person_id')\n",
    "demo=demo.sort_values(by='person_id')\n",
    "demo.to_csv('data/5/tt/demo_all.csv',index=False)"
   ]
  },
  {
   "cell_type": "markdown",
   "metadata": {},
   "source": [
    "### Statistics"
   ]
  },
  {
   "cell_type": "code",
   "execution_count": null,
   "metadata": {},
   "outputs": [],
   "source": [
    "train_id=pd.read_csv('data/4/tt/train_id.csv',header=0)\n",
    "test_id=pd.read_csv('data/4/tt/test_id.csv',header=0)\n",
    "final_ids=pd.read_csv('data/4/tt/all_id.csv',header=0)\n",
    "train_ids=train_id['person_id'].unique()\n",
    "test_ids=test_id['person_id'].unique()\n",
    "all_ids=final_ids['person_id'].unique()"
   ]
  },
  {
   "cell_type": "code",
   "execution_count": null,
   "metadata": {},
   "outputs": [],
   "source": [
    "cond=pd.read_csv('cond_cohort.csv',header=0)\n",
    "cond=cond[cond['Age']<=24]\n",
    "del cond['visit_occurrence_id']\n",
    "del cond['fact_id']\n",
    "del cond['Sex']\n",
    "cond=cond.drop_duplicates()\n",
    "cond=cond[cond['person_id'].isin(all_ids)]\n",
    "print(\"All Before 2 max\", cond.groupby('person_id').count()['Age'].max())\n",
    "print(\"All Before 2 mean\", cond.groupby('person_id').count()['Age'].mean())\n",
    "print(\"All Before 2 min\", cond.groupby('person_id').count()['Age'].min())\n",
    "cond1=cond[cond['person_id'].isin(train_ids)]\n",
    "print(\"Train Before 2 max\", cond1.groupby('person_id').count()['Age'].max())\n",
    "print(\"Train Before 2 mean\", cond1.groupby('person_id').count()['Age'].mean())\n",
    "print(\"Train Before 2 std\", cond1.groupby('person_id').count()['Age'].std())\n",
    "print(\"Train Before 2 min\", cond1.groupby('person_id').count()['Age'].min())\n",
    "cond1=cond[cond['person_id'].isin(test_ids)]\n",
    "print(\"Test Before 2 max\", cond1.groupby('person_id').count()['Age'].max())\n",
    "print(\"Test Before 2 mean\", cond1.groupby('person_id').count()['Age'].mean())\n",
    "print(\"Test Before 2 std\", cond1.groupby('person_id').count()['Age'].std())\n",
    "print(\"Test Before 2 min\", cond1.groupby('person_id').count()['Age'].min())\n",
    "\n",
    "\n",
    "cond=pd.read_csv('cond_cohort.csv',header=0)\n",
    "cond=cond[cond['Age']>24]\n",
    "cond=cond[cond['Age']<=120]\n",
    "del cond['visit_occurrence_id']\n",
    "del cond['fact_id']\n",
    "del cond['Sex']\n",
    "cond=cond.drop_duplicates()\n",
    "cond=cond[cond['person_id'].isin(all_ids)]\n",
    "print(\"All After 2 max\", cond.groupby('person_id').count()['Age'].max())\n",
    "print(\"All After 2 mean\", cond.groupby('person_id').count()['Age'].mean())\n",
    "print(\"All After 2 min\", cond.groupby('person_id').count()['Age'].min())\n",
    "cond1=cond[cond['person_id'].isin(train_ids)]\n",
    "print(\"Train After 2 max\", cond1.groupby('person_id').count()['Age'].max())\n",
    "print(\"Train After 2 mean\", cond1.groupby('person_id').count()['Age'].mean())\n",
    "print(\"Train After 2 STd\", cond1.groupby('person_id').count()['Age'].std())\n",
    "print(\"Train After 2 min\", cond1.groupby('person_id').count()['Age'].min())\n",
    "cond1=cond[cond['person_id'].isin(test_ids)]\n",
    "print(\"Test After 2 max\", cond1.groupby('person_id').count()['Age'].max())\n",
    "print(\"Test After 2 mean\", cond1.groupby('person_id').count()['Age'].mean())\n",
    "print(\"Test After 2 std\", cond1.groupby('person_id').count()['Age'].std())\n",
    "print(\"Test After 2 min\", cond1.groupby('person_id').count()['Age'].min())"
   ]
  },
  {
   "cell_type": "code",
   "execution_count": null,
   "metadata": {},
   "outputs": [],
   "source": [
    "cond=pd.read_csv('data/4/meas_02.csv',header=0)\n",
    "print(cond.head())\n",
    "del cond['value']\n",
    "meas_ids=['3013762','3023540','40762638','3001537','3038553']\n",
    "cond=cond[cond['variable'].isin(meas_ids)]\n",
    "cond=cond[cond['Age']<=24]\n",
    "#del cond['Age']\n",
    "cond=cond.drop_duplicates()\n",
    "cond=cond[cond['person_id'].isin(all_ids)]\n",
    "print(\"All Before 2 max\", cond.groupby('person_id').count()['Age'].max())\n",
    "print(\"All Before 2 mean\", cond.groupby('person_id').count()['Age'].mean())\n",
    "print(\"All Before 2 std\", cond.groupby('person_id').count()['Age'].std())\n",
    "print(\"All Before 2 min\", cond.groupby('person_id').count()['Age'].min())\n",
    "cond1=cond[cond['person_id'].isin(train_ids)]\n",
    "print(\"Train Before 2 max\", cond1.groupby('person_id').count()['Age'].max())\n",
    "print(\"Train Before 2 mean\", cond1.groupby('person_id').count()['Age'].mean())\n",
    "print(\"Train Before 2 std\", cond1.groupby('person_id').count()['Age'].std())\n",
    "print(\"Train Before 2 min\", cond1.groupby('person_id').count()['Age'].min())\n",
    "cond1=cond[cond['person_id'].isin(test_ids)]\n",
    "print(\"Test Before 2 max\", cond1.groupby('person_id').count()['Age'].max())\n",
    "print(\"Test Before 2 mean\", cond1.groupby('person_id').count()['Age'].mean())\n",
    "print(\"Test Before 2 std\", cond1.groupby('person_id').count()['Age'].std())\n",
    "print(\"Test Before 2 min\", cond1.groupby('person_id').count()['Age'].min())\n",
    "\n",
    "\n",
    "cond=pd.read_csv('data/4/meas_after2.csv',header=0)\n",
    "cond=cond[cond['person_id'].isin(all_ids)]\n",
    "print(cond.head())\n",
    "cols_to_std=cond.columns\n",
    "print(cols_to_std)\n",
    "# del cond[3013762]\n",
    "# del cond[3023540]\n",
    "# del cond[40762638]\n",
    "# del cond[3001537]\n",
    "# del cond[3038553]\n",
    "cols_to_std=cond.columns\n",
    "print(cols_to_std)\n",
    "cols_to_std=cols_to_std[2:]\n",
    "cond=pd.melt(cond, id_vars=['person_id','Age'], value_vars=cols_to_std)\n",
    "print(cond.head())\n",
    "cond['value']=cond['value'].astype(float)\n",
    "cond['value']=cond['value'].astype(int)\n",
    "cond=cond[cond['value']!=0]\n",
    "cond=cond[cond['value']!='0']\n",
    "print(cond.head())\n",
    "del cond['value']\n",
    "cond=cond.drop_duplicates()\n",
    "print(\"All After 2 max\", cond.groupby('person_id').count()['Age'].max())\n",
    "print(\"All After 2 mean\", cond.groupby('person_id').count()['Age'].mean())\n",
    "print(\"All After 2 std\", cond.groupby('person_id').count()['Age'].std())\n",
    "print(\"All After 2 min\", cond.groupby('person_id').count()['Age'].min())\n",
    "cond1=cond[cond['person_id'].isin(train_ids)]\n",
    "print(\"Train After 2 max\", cond1.groupby('person_id').count()['Age'].max())\n",
    "print(\"Train After 2 mean\", cond1.groupby('person_id').count()['Age'].mean())\n",
    "print(\"Train After 2 std\", cond1.groupby('person_id').count()['Age'].std())\n",
    "print(\"Train After 2 min\", cond1.groupby('person_id').count()['Age'].min())\n",
    "cond1=cond[cond['person_id'].isin(test_ids)]\n",
    "print(\"Test After 2 max\", cond1.groupby('person_id').count()['Age'].max())\n",
    "print(\"Test After 2 mean\", cond1.groupby('person_id').count()['Age'].mean())\n",
    "print(\"Test After 2 std\", cond1.groupby('person_id').count()['Age'].std())\n",
    "print(\"Test After 2 min\", cond1.groupby('person_id').count()['Age'].min())"
   ]
  },
  {
   "cell_type": "code",
   "execution_count": null,
   "metadata": {},
   "outputs": [],
   "source": [
    "\n",
    "med=pd.read_csv('ATC10.csv',header=0)\n",
    "med_ids=pd.read_csv('data/5/feat_meds.csv',header=0)\n",
    "med=med[med['mapped_concept_name'].isin(med_ids['mapped_concept_name'].unique())]\n",
    "med=med[med['Age']<=24]\n",
    "del med['concept_id']\n",
    "del med['mapped_concept_id']\n",
    "med=med.drop_duplicates()\n",
    "med=med.rename(columns={'mapped_concept_name':'value'})\n",
    "med=med[['person_id','Age','value']]\n",
    "print(med.head())\n",
    "del med['Age']\n",
    "cond=med\n",
    "\n",
    "print(cond['value'].nunique())\n",
    "\n",
    "\n",
    "cond=cond.drop_duplicates()\n",
    "cond=cond[cond['person_id'].isin(all_ids)]\n",
    "print(\"All Before 2 max\", cond.groupby('person_id').count()['value'].max())\n",
    "print(\"All Before 2 mean\", cond.groupby('person_id').count()['value'].mean())\n",
    "print(\"All Before 2 std\", cond.groupby('person_id').count()['value'].std())\n",
    "print(\"All Before 2 min\", cond.groupby('person_id').count()['value'].min())\n",
    "cond1=cond[cond['person_id'].isin(train_ids)]\n",
    "print(\"Train Before 2 max\", cond1.groupby('person_id').count()['value'].max())\n",
    "print(\"Train Before 2 mean\", cond1.groupby('person_id').count()['value'].mean())\n",
    "print(\"Train Before 2 std\", cond1.groupby('person_id').count()['value'].std())\n",
    "print(\"Train Before 2 min\", cond1.groupby('person_id').count()['value'].min())\n",
    "cond1=cond[cond['person_id'].isin(test_ids)]\n",
    "print(\"Test Before 2 max\", cond1.groupby('person_id').count()['value'].max())\n",
    "print(\"Test Before 2 mean\", cond1.groupby('person_id').count()['value'].mean())\n",
    "print(\"Test Before 2 std\", cond1.groupby('person_id').count()['value'].std())\n",
    "print(\"Test Before 2 min\", cond1.groupby('person_id').count()['value'].min())\n",
    "\n",
    "\n",
    "med=pd.read_csv('ATC10.csv',header=0)\n",
    "med_ids=pd.read_csv('data/5/feat_meds.csv',header=0)\n",
    "med=med[med['mapped_concept_name'].isin(med_ids['mapped_concept_name'].unique())]\n",
    "med=med[med['Age']>24]\n",
    "med=med[med['Age']<=120]\n",
    "del med['concept_id']\n",
    "del med['mapped_concept_id']\n",
    "med=med.drop_duplicates()\n",
    "med=med.rename(columns={'mapped_concept_name':'value'})\n",
    "med=med[['person_id','Age','value']]\n",
    "med.head()\n",
    "del med['Age']\n",
    "cond=med\n",
    "cond=cond.drop_duplicates()\n",
    "cond=cond[cond['person_id'].isin(all_ids)]\n",
    "print(\"All After 2 max\", cond.groupby('person_id').count()['value'].max())\n",
    "print(\"All After 2 mean\", cond.groupby('person_id').count()['value'].mean())\n",
    "print(\"All After 2 min\", cond.groupby('person_id').count()['value'].min())\n",
    "cond1=cond[cond['person_id'].isin(train_ids)]\n",
    "print(\"Train After 2 max\", cond1.groupby('person_id').count()['value'].max())\n",
    "print(\"Train After 2 mean\", cond1.groupby('person_id').count()['value'].mean())\n",
    "print(\"Train After 2 STd\", cond1.groupby('person_id').count()['value'].std())\n",
    "print(\"Train After 2 min\", cond1.groupby('person_id').count()['value'].min())\n",
    "cond1=cond[cond['person_id'].isin(test_ids)]\n",
    "print(\"Test After 2 max\", cond1.groupby('person_id').count()['value'].max())\n",
    "print(\"Test After 2 mean\", cond1.groupby('person_id').count()['value'].mean())\n",
    "print(\"Test After 2 std\", cond1.groupby('person_id').count()['value'].std())\n",
    "print(\"Test After 2 min\", cond1.groupby('person_id').count()['value'].min())"
   ]
  },
  {
   "cell_type": "code",
   "execution_count": null,
   "metadata": {},
   "outputs": [],
   "source": [
    "cond=pd.read_csv('cond_cohort.csv',header=0)\n",
    "cond=cond[cond['Age']<=24]\n",
    "del cond['visit_occurrence_id']\n",
    "del cond['fact_id']\n",
    "del cond['Sex']\n",
    "cond=cond.drop_duplicates()\n",
    "cond=cond.rename(columns={'fact':'value'})\n",
    "cond=cond[['person_id','Age','value']]\n",
    "cond.head()\n",
    "\n",
    "cond=cond.drop_duplicates()\n",
    "cond=cond[cond['person_id'].isin(all_ids)]\n",
    "print(\"All Before 2 max\", cond.groupby('person_id').count()['Age'].max())\n",
    "print(\"All Before 2 mean\", cond.groupby('person_id').count()['Age'].mean())\n",
    "print(\"All Before 2 min\", cond.groupby('person_id').count()['Age'].min())\n",
    "cond1=cond[cond['person_id'].isin(train_ids)]\n",
    "print(\"Train Before 2 max\", cond1.groupby('person_id').count()['Age'].max())\n",
    "print(\"Train Before 2 mean\", cond1.groupby('person_id').count()['Age'].mean())\n",
    "print(\"Train Before 2 std\", cond1.groupby('person_id').count()['Age'].std())\n",
    "print(\"Train Before 2 min\", cond1.groupby('person_id').count()['Age'].min())\n",
    "cond1=cond[cond['person_id'].isin(test_ids)]\n",
    "print(\"Test Before 2 max\", cond1.groupby('person_id').count()['Age'].max())\n",
    "print(\"Test Before 2 mean\", cond1.groupby('person_id').count()['Age'].mean())\n",
    "print(\"Test Before 2 std\", cond1.groupby('person_id').count()['Age'].std())\n",
    "print(\"Test Before 2 min\", cond1.groupby('person_id').count()['Age'].min())\n"
   ]
  },
  {
   "cell_type": "code",
   "execution_count": null,
   "metadata": {},
   "outputs": [],
   "source": [
    "cond=pd.read_csv('data/4/demo.csv',header=0)\n",
    "cond=cond.drop_duplicates()\n",
    "cond=cond[cond['person_id'].isin(all_ids)]\n",
    "print(\"Race\",cond.Race_label.value_counts())\n",
    "print(\"Eth\",cond.Eth_label.value_counts())\n",
    "print(\"Payer\",cond.payer_y.value_counts())\n",
    "print(\"Gender\",cond.Sex.value_counts())\n",
    "\n",
    "\n",
    "cond1=cond[cond['person_id'].isin(train_ids)]\n",
    "print(\"Race\",cond1.Race_label.value_counts())\n",
    "print(\"Eth\",cond1.Eth_label.value_counts())\n",
    "print(\"Payer\",cond1.payer_y.value_counts())\n",
    "print(\"Gender\",cond1.Sex.value_counts())\n",
    "\n",
    "cond1=cond[cond['person_id'].isin(test_ids)]\n",
    "print(\"Race\",cond1.Race_label.value_counts())\n",
    "print(\"Eth\",cond1.Eth_label.value_counts())\n",
    "print(\"Payer\",cond1.payer_y.value_counts())\n",
    "print(\"Gender\",cond1.Sex.value_counts())\n"
   ]
  },
  {
   "cell_type": "code",
   "execution_count": null,
   "metadata": {},
   "outputs": [],
   "source": [
    "bmi=pd.read_csv('data/4/bmi_02.csv',header=0)\n",
    "bmi=bmi[bmi['person_id'].isin(all_ids)]\n",
    "bmi['label']=0\n",
    "bmi.loc[(bmi['24']>0) & (bmi['24']<=5),'label']=1\n",
    "bmi.loc[(bmi['24']>=5) & (bmi['24']<85),'label']=2\n",
    "bmi.loc[(bmi['24']>=85) & (bmi['24']<95),'label']=3\n",
    "bmi.loc[bmi['24']>=95,'label']=4\n",
    "print(bmi.label.value_counts())\n",
    "\n",
    "bmi1=bmi[bmi['person_id'].isin(train_ids)]\n",
    "print(bmi1.label.value_counts())\n",
    "bmi1=bmi[bmi['person_id'].isin(test_ids)]\n",
    "print(bmi1.label.value_counts())"
   ]
  },
  {
   "cell_type": "code",
   "execution_count": null,
   "metadata": {},
   "outputs": [],
   "source": [
    "bmi=pd.read_csv('data/geo/bmi_2_train.csv',header=0)\n",
    "print(bmi.value.value_counts())"
   ]
  },
  {
   "cell_type": "code",
   "execution_count": null,
   "metadata": {},
   "outputs": [],
   "source": [
    "bmi=pd.read_csv('data/geo/bmi_2_test.csv',header=0)\n",
    "print(bmi.value.value_counts())"
   ]
  },
  {
   "cell_type": "markdown",
   "metadata": {},
   "source": [
    "### Combining all info before 2"
   ]
  },
  {
   "cell_type": "code",
   "execution_count": null,
   "metadata": {},
   "outputs": [],
   "source": [
    "final_ids=pd.read_csv('data/4/tt/all_id.csv',header=0)"
   ]
  },
  {
   "cell_type": "code",
   "execution_count": null,
   "metadata": {},
   "outputs": [],
   "source": [
    "med=pd.read_csv('ATC10.csv',header=0)\n",
    "med_ids=pd.read_csv('data/5/feat_meds.csv',header=0)\n",
    "med=med[med['mapped_concept_name'].isin(med_ids['mapped_concept_name'].unique())]\n",
    "med=med[med['Age']<=24]\n",
    "del med['concept_id']\n",
    "del med['mapped_concept_id']\n",
    "med=med.drop_duplicates()\n",
    "med=med.rename(columns={'mapped_concept_name':'value'})\n",
    "med=med[['person_id','Age','value']]\n",
    "med.head()"
   ]
  },
  {
   "cell_type": "code",
   "execution_count": null,
   "metadata": {},
   "outputs": [],
   "source": [
    "med.value.nunique()"
   ]
  },
  {
   "cell_type": "code",
   "execution_count": null,
   "metadata": {},
   "outputs": [],
   "source": [
    "cond=pd.read_csv('cond_cohort.csv',header=0)\n",
    "cond=cond[cond['Age']<=24]\n",
    "del cond['visit_occurrence_id']\n",
    "del cond['fact_id']\n",
    "del cond['Sex']\n",
    "cond=cond.drop_duplicates()\n",
    "cond=cond.rename(columns={'fact':'value'})\n",
    "cond=cond[['person_id','Age','value']]\n",
    "cond.head()"
   ]
  },
  {
   "cell_type": "code",
   "execution_count": null,
   "metadata": {},
   "outputs": [],
   "source": [
    "bmi_pct=pd.read_csv('data/4/bmi_pct_enc_02.csv',header=0)\n",
    "bmi_pct=bmi_pct.rename(columns={'variable':'Age'})\n",
    "bmi_pct['value'] = 'BMIp_Change_' + bmi_pct['value'].astype(str)\n",
    "bmi=pd.read_csv('data/4/bmi_02.csv',header=0)\n",
    "bmi['Age']=24\n",
    "bmi['value']=0\n",
    "bmi.loc[(bmi['24']>0) & (bmi['24']<=5),'value']='Underweight'\n",
    "bmi.loc[(bmi['24']>=5) & (bmi['24']<85),'value']='Normal'\n",
    "bmi.loc[(bmi['24']>=85) & (bmi['24']<95),'value']='Overweight'\n",
    "bmi.loc[bmi['24']>=95,'value']='Obesity'\n",
    "bmi=bmi[['person_id','Age','value']]"
   ]
  },
  {
   "cell_type": "code",
   "execution_count": null,
   "metadata": {},
   "outputs": [],
   "source": [
    "bmi_pct"
   ]
  },
  {
   "cell_type": "code",
   "execution_count": null,
   "metadata": {},
   "outputs": [],
   "source": [
    "bmi"
   ]
  },
  {
   "cell_type": "code",
   "execution_count": null,
   "metadata": {},
   "outputs": [],
   "source": [
    "bmi.to_csv('data/5/bmi_label_2.csv',index=False)"
   ]
  },
  {
   "cell_type": "code",
   "execution_count": null,
   "metadata": {},
   "outputs": [],
   "source": [
    "meas=pd.read_csv('data/4/meas_02_5.csv',header=0)\n",
    "del meas['variable']\n",
    "meas.head()"
   ]
  },
  {
   "cell_type": "code",
   "execution_count": null,
   "metadata": {},
   "outputs": [],
   "source": [
    "final_input=pd.concat([cond,meas],axis=0)\n",
    "final_input=pd.concat([final_input,med],axis=0)\n",
    "final_input=pd.concat([final_input,bmi_pct],axis=0)\n",
    "final_input=pd.concat([final_input,bmi],axis=0)\n",
    "final_input=final_input[final_input['person_id'].isin(final_ids['person_id'])]\n",
    "final_input=final_input.sort_values(by=['person_id','Age'])\n",
    "final_input.groupby('person_id').count()['Age'].max()"
   ]
  },
  {
   "cell_type": "code",
   "execution_count": null,
   "metadata": {},
   "outputs": [],
   "source": [
    "lengths=final_input['person_id'].value_counts().reset_index()\n",
    "lengths=lengths.sort_values(by=['index'])\n",
    "lengths['index'].nunique()\n",
    "lengths.to_csv('data/5/enc_lengths.csv',index=False)"
   ]
  },
  {
   "cell_type": "code",
   "execution_count": null,
   "metadata": {},
   "outputs": [],
   "source": [
    "miss=final_input['person_id'].value_counts().reset_index()\n",
    "miss['person_id']=660-miss['person_id']\n",
    "dummy=pd.DataFrame({'person_id': miss['index'].repeat(miss['person_id'])})\n",
    "final_input2=pd.concat([final_input,dummy],axis=0)\n",
    "final_input2=final_input2.sort_values(by=['person_id','Age'])\n",
    "final_input2=final_input2.fillna(0)"
   ]
  },
  {
   "cell_type": "code",
   "execution_count": null,
   "metadata": {},
   "outputs": [],
   "source": [
    "final_input2.person_id.nunique()"
   ]
  },
  {
   "cell_type": "code",
   "execution_count": null,
   "metadata": {},
   "outputs": [],
   "source": [
    "final_input2.to_csv('data/5/enc_data.csv',index=False)"
   ]
  },
  {
   "cell_type": "code",
   "execution_count": null,
   "metadata": {},
   "outputs": [],
   "source": [
    "final_input2"
   ]
  },
  {
   "cell_type": "markdown",
   "metadata": {},
   "source": [
    "### COMBINING DEC"
   ]
  },
  {
   "cell_type": "code",
   "execution_count": null,
   "metadata": {},
   "outputs": [],
   "source": [
    "final_ids=pd.read_csv('data/4/tt/all_id.csv',header=0)\n",
    "cond=pd.read_csv('data/4/cond_after2.csv',header=0)\n",
    "meas=pd.read_csv('data/4/meas_after2.csv',header=0)\n",
    "bmi=pd.read_csv('data/4/bmiPad_after2.csv',header=0)"
   ]
  },
  {
   "cell_type": "code",
   "execution_count": null,
   "metadata": {},
   "outputs": [],
   "source": [
    "bmi.loc[(bmi['24']>0) & (bmi['24']<=5),'value']='Underweight'\n",
    "bmi.loc[(bmi['24']>=5) & (bmi['24']<85),'value']='Normal'\n",
    "bmi.loc[(bmi['24']>=85) & (bmi['24']<95),'value']='Overweight'\n",
    "bmi.loc[bmi['24']>=95,'value']='Obesity'"
   ]
  },
  {
   "cell_type": "code",
   "execution_count": null,
   "metadata": {},
   "outputs": [],
   "source": [
    "final_input=pd.merge(cond,meas,how='outer',on=['person_id','Age'])\n",
    "final_input=final_input[final_input['person_id'].isin(final_ids['person_id'])]\n",
    "final_input=final_input.sort_values(by=['person_id','Age'])\n",
    "final_input=final_input.fillna(0)\n",
    "final_input.person_id.nunique()"
   ]
  },
  {
   "cell_type": "code",
   "execution_count": null,
   "metadata": {},
   "outputs": [],
   "source": []
  },
  {
   "cell_type": "code",
   "execution_count": null,
   "metadata": {},
   "outputs": [],
   "source": []
  },
  {
   "cell_type": "markdown",
   "metadata": {},
   "source": [
    "### CREATE DICTIONARY"
   ]
  },
  {
   "cell_type": "code",
   "execution_count": null,
   "metadata": {},
   "outputs": [],
   "source": [
    "final_ids=pd.read_csv('data/4/tt/all_id.csv',header=0)\n",
    "enc=pd.read_csv('data/5/enc_data.csv',header=0)\n",
    "demo=pd.read_csv('data/5/tt/demo_all.csv',header=0)\n",
    "cond=pd.read_csv('cond_cohort.csv',header=0)\n",
    "cond=cond[cond['person_id'].isin(final_ids['person_id'])]\n",
    "cond=cond[cond['Age']<=120]\n",
    "del cond['visit_occurrence_id']\n",
    "del cond['fact_id']\n",
    "del cond['Sex']\n",
    "cond=cond.drop_duplicates()\n",
    "\n",
    "med=pd.read_csv('ATC10.csv',header=0)\n",
    "med_ids=pd.read_csv('data/5/feat_meds.csv',header=0)\n",
    "med=med[med['mapped_concept_name'].isin(med_ids['mapped_concept_name'].unique())]\n",
    "med=med[med['Age']<=120]\n",
    "del med['concept_id']\n",
    "del med['mapped_concept_id']\n",
    "med=med.drop_duplicates()\n",
    "med=med.rename(columns={'mapped_concept_name':'value'})\n",
    "med=med[['person_id','Age','value']]"
   ]
  },
  {
   "cell_type": "code",
   "execution_count": null,
   "metadata": {},
   "outputs": [],
   "source": [
    "meas=pd.read_csv('data/4/meas_after2.csv',header=0)\n",
    "cond_dec=pd.read_csv('data/4/cond_after2.csv',header=0)\n",
    "med_dec=pd.read_csv('data/5/meds_after2_reduced.csv',header=0)\n",
    "cond_dec=cond_dec[cond_dec['person_id'].isin(final_ids['person_id'])]\n",
    "meas=meas[meas['person_id'].isin(final_ids['person_id'])]\n",
    "med_dec=med_dec[med_dec['person_id'].isin(final_ids['person_id'])]"
   ]
  },
  {
   "cell_type": "code",
   "execution_count": null,
   "metadata": {},
   "outputs": [],
   "source": [
    "cols_to_std=meas.columns\n",
    "cols_to_std=cols_to_std[2:]\n",
    "meas=pd.melt(meas, id_vars=['person_id','Age'], value_vars=cols_to_std)\n",
    "meas=meas[meas['value']!='0']\n",
    "meas=meas.drop_duplicates()\n",
    "\n",
    "\n",
    "cols_to_std=cond_dec.columns\n",
    "cols_to_std=cols_to_std[:-2]\n",
    "cond_dec=pd.melt(cond_dec, id_vars=['person_id','Age'], value_vars=cols_to_std)\n",
    "cond_dec=cond_dec[cond_dec['value']!=0]\n",
    "#del cond['value']\n",
    "cond_dec=cond_dec.drop_duplicates()\n",
    "\n",
    "cols_to_std=med_dec.columns\n",
    "cols_to_std=cols_to_std[:-2]\n",
    "med_dec=pd.melt(med_dec, id_vars=['person_id','Age'], value_vars=cols_to_std)\n",
    "med_dec=med_dec[med_dec['value']!=0]\n",
    "#del cond['value']\n",
    "med_dec=med_dec.drop_duplicates()"
   ]
  },
  {
   "cell_type": "code",
   "execution_count": null,
   "metadata": {},
   "outputs": [],
   "source": [
    "med_dec.head()"
   ]
  },
  {
   "cell_type": "code",
   "execution_count": null,
   "metadata": {},
   "outputs": [],
   "source": [
    "cond['fact'].unique()"
   ]
  },
  {
   "cell_type": "code",
   "execution_count": null,
   "metadata": {},
   "outputs": [],
   "source": [
    "feat=list(enc['value'].unique())\n",
    "feat.extend(list(cond['fact'].unique()))\n",
    "feat.extend(list(cond_dec['variable'].unique()))\n",
    "feat.extend(list(med_dec['variable'].unique()))\n",
    "feat.extend(list(meas['value'].unique()))\n",
    "# feat.extend(list(demo['Eth_label'].unique()))\n",
    "# feat.extend(list(demo['Sex'].unique()))\n",
    "# feat.extend(list(demo['Race_label'].unique()))\n",
    "# feat.extend(list(demo['payer_y'].unique()))\n",
    "feat.extend([0])\n",
    "feat=list(set(feat))"
   ]
  },
  {
   "cell_type": "code",
   "execution_count": null,
   "metadata": {},
   "outputs": [],
   "source": [
    "len(feat)"
   ]
  },
  {
   "cell_type": "code",
   "execution_count": null,
   "metadata": {},
   "outputs": [],
   "source": [
    "l_dict = dict(zip(set(feat), range(len(feat))))\n",
    "l_dict['NI']=0\n",
    "l_dict['0']=0\n",
    "l_dict"
   ]
  },
  {
   "cell_type": "code",
   "execution_count": null,
   "metadata": {},
   "outputs": [],
   "source": [
    "l_dict"
   ]
  },
  {
   "cell_type": "code",
   "execution_count": null,
   "metadata": {},
   "outputs": [],
   "source": [
    "l_dict['BMIp_Change_4']"
   ]
  },
  {
   "cell_type": "code",
   "execution_count": null,
   "metadata": {},
   "outputs": [],
   "source": [
    "import pickle\n",
    "with open(\"data/5/featVocab\", 'wb') as fp:\n",
    "        pickle.dump(l_dict, fp)"
   ]
  },
  {
   "cell_type": "code",
   "execution_count": null,
   "metadata": {},
   "outputs": [],
   "source": [
    "feat=list(demo['Eth_label'].unique())\n",
    "feat.extend(list(demo['Sex'].unique()))\n",
    "feat.extend(list(demo['Race_label'].unique()))\n",
    "feat.extend(list(demo['payer_y'].unique()))\n",
    "feat.extend(list(demo['coi'].unique()))\n",
    "feat.extend([0])\n",
    "feat=list(set(feat))\n",
    "feat"
   ]
  },
  {
   "cell_type": "code",
   "execution_count": null,
   "metadata": {},
   "outputs": [],
   "source": [
    "d_dict = dict(zip(set(feat), range(len(feat))))\n",
    "d_dict['NI']=0\n",
    "d_dict['Asian']=4\n",
    "d_dict['0']=0\n",
    "d_dict"
   ]
  },
  {
   "cell_type": "code",
   "execution_count": null,
   "metadata": {},
   "outputs": [],
   "source": [
    "len(d_dict)"
   ]
  },
  {
   "cell_type": "code",
   "execution_count": null,
   "metadata": {},
   "outputs": [],
   "source": [
    "import pickle\n",
    "with open(\"data/5/demoVocab\", 'wb') as fp:\n",
    "        pickle.dump(d_dict, fp)"
   ]
  },
  {
   "cell_type": "code",
   "execution_count": null,
   "metadata": {},
   "outputs": [],
   "source": [
    "486+20"
   ]
  },
  {
   "cell_type": "markdown",
   "metadata": {},
   "source": [
    "### Train and test"
   ]
  },
  {
   "cell_type": "code",
   "execution_count": null,
   "metadata": {},
   "outputs": [],
   "source": [
    "train_id=pd.read_csv('data/4/train_ids.csv',header=0)\n",
    "test_id=pd.read_csv('data/4/test_ids.csv',header=0)\n",
    "mask=pd.read_csv('data/4/bmiMask_after2.csv',header=0)\n",
    "bmi=pd.read_csv('data/4/bmi_02.csv',header=0)\n",
    "all_ids=pd.concat([train_id,test_id],axis=0)\n",
    "all_ids.shape"
   ]
  },
  {
   "cell_type": "code",
   "execution_count": null,
   "metadata": {},
   "outputs": [],
   "source": [
    "print(bmi.person_id.nunique())\n",
    "print(mask.person_id.nunique())"
   ]
  },
  {
   "cell_type": "code",
   "execution_count": null,
   "metadata": {},
   "outputs": [],
   "source": [
    "final_ids=pd.merge(bmi['person_id'],mask['person_id'],how='inner',on='person_id')\n",
    "final_ids.person_id.nunique()"
   ]
  },
  {
   "cell_type": "code",
   "execution_count": null,
   "metadata": {},
   "outputs": [],
   "source": [
    "final_ids=pd.merge(all_ids['person_id'],mask['person_id'],how='inner',on='person_id')\n",
    "final_ids=pd.merge(final_ids['person_id'],bmi['person_id'],how='inner',on='person_id')\n",
    "final_ids.person_id.nunique()"
   ]
  },
  {
   "cell_type": "code",
   "execution_count": null,
   "metadata": {},
   "outputs": [],
   "source": [
    "train_id=train_id[train_id['person_id'].isin(final_ids['person_id'])]\n",
    "train_id.shape"
   ]
  },
  {
   "cell_type": "code",
   "execution_count": null,
   "metadata": {},
   "outputs": [],
   "source": [
    "test_id=test_id[test_id['person_id'].isin(final_ids['person_id'])]\n",
    "test_id.shape"
   ]
  },
  {
   "cell_type": "code",
   "execution_count": null,
   "metadata": {},
   "outputs": [],
   "source": [
    "train_id.to_csv('data/4/tt/train_id.csv',index=False)\n",
    "test_id.to_csv('data/4/tt/test_id.csv',index=False)\n",
    "final_ids.to_csv('data/4/tt/all_id.csv',index=False)"
   ]
  },
  {
   "cell_type": "markdown",
   "metadata": {},
   "source": [
    "### GEO SPLIT"
   ]
  },
  {
   "cell_type": "code",
   "execution_count": null,
   "metadata": {},
   "outputs": [],
   "source": [
    "train_id=pd.read_csv('data/4/tt/all_id.csv',header=0)\n",
    "test_id=pd.read_csv('fl.csv',header=0)\n",
    "test_id=train_id[train_id['person_id'].isin(list(test_id['person_id'].unique()))]\n",
    "train_id=train_id[~train_id['person_id'].isin(list(test_id['person_id'].unique()))]"
   ]
  },
  {
   "cell_type": "code",
   "execution_count": null,
   "metadata": {},
   "outputs": [],
   "source": [
    "train_id.shape"
   ]
  },
  {
   "cell_type": "code",
   "execution_count": null,
   "metadata": {},
   "outputs": [],
   "source": [
    "test_id.shape"
   ]
  },
  {
   "cell_type": "code",
   "execution_count": null,
   "metadata": {},
   "outputs": [],
   "source": [
    "demo=pd.read_csv('data/5/tt/demo_all.csv',header=0)\n",
    "demo1=demo[demo['person_id'].isin(train_id['person_id'])]\n",
    "demo1=demo1.sort_values(by='person_id')\n",
    "demo1.to_csv('data/geo/demo_train.csv',index=False)\n",
    "demo1=demo[demo['person_id'].isin(test_id['person_id'])]\n",
    "demo1=demo1.sort_values(by='person_id')\n",
    "demo1.to_csv('data/geo/demo_test.csv',index=False)\n",
    "demo.head()"
   ]
  },
  {
   "cell_type": "code",
   "execution_count": null,
   "metadata": {},
   "outputs": [],
   "source": [
    "demo=pd.read_csv('data/geo/demo_test.csv',header=0)\n",
    "demo=demo.sort_values(by='person_id')\n",
    "demo['Eth_dict']=[d_dict[x] for x in demo['Eth_label']]\n",
    "demo['Race_dict']=[d_dict[x] for x in demo['Race_label']]\n",
    "demo['Sex_dict']=[d_dict[x] for x in demo['Sex']]\n",
    "demo['Payer_dict']=[d_dict[x] for x in demo['payer_y']]\n",
    "demo['COI_dict']=[d_dict[x] for x in demo['coi']]\n",
    "demo.to_csv('data/geo/demo_test.csv',index=False)\n",
    "\n",
    "demo=pd.read_csv('data/geo/demo_train.csv',header=0)\n",
    "demo=demo.sort_values(by='person_id')\n",
    "demo['Eth_dict']=[d_dict[x] for x in demo['Eth_label']]\n",
    "demo['Race_dict']=[d_dict[x] for x in demo['Race_label']]\n",
    "demo['Sex_dict']=[d_dict[x] for x in demo['Sex']]\n",
    "demo['Payer_dict']=[d_dict[x] for x in demo['payer_y']]\n",
    "demo['COI_dict']=[d_dict[x] for x in demo['coi']]\n",
    "demo.to_csv('data/geo/demo_train.csv',index=False)"
   ]
  },
  {
   "cell_type": "code",
   "execution_count": null,
   "metadata": {},
   "outputs": [],
   "source": [
    "enc=pd.read_csv('data/5/enc_data.csv',header=0)\n",
    "enc_len=pd.read_csv('data/5/enc_lengths.csv',header=0)"
   ]
  },
  {
   "cell_type": "code",
   "execution_count": null,
   "metadata": {},
   "outputs": [],
   "source": [
    "enc_len1=enc_len[enc_len['index'].isin(train_id['person_id'])]\n",
    "enc_len1=enc_len1.sort_values(by=['index'])\n",
    "enc_len1.to_csv('data/geo/enc_len_train.csv',index=False)\n",
    "enc_len1=enc_len[enc_len['index'].isin(test_id['person_id'])]\n",
    "enc_len1=enc_len1.sort_values(by=['index'])\n",
    "enc_len1.to_csv('data/geo/enc_len_test.csv',index=False)"
   ]
  },
  {
   "cell_type": "code",
   "execution_count": null,
   "metadata": {},
   "outputs": [],
   "source": [
    "enc['feat_dict']=[l_dict[x] for x in enc['value']]\n",
    "enc['age_dict']=[a_dict[x] for x in enc['Age']]\n",
    "\n",
    "enc1=enc[enc['person_id'].isin(train_id['person_id'])]\n",
    "enc1.to_csv('data/geo/enc_train.csv',index=False)\n",
    "enc1=enc[enc['person_id'].isin(test_id['person_id'])]\n",
    "enc1.to_csv('data/geo/enc_test.csv',index=False)"
   ]
  },
  {
   "cell_type": "code",
   "execution_count": null,
   "metadata": {},
   "outputs": [],
   "source": [
    "bmi=pd.read_csv('data/4/bmi_label_2.csv',header=0)\n",
    "del bmi['Age']\n",
    "bmi=bmi.sort_values(by='person_id')\n",
    "\n",
    "bmi1=bmi[bmi['person_id'].isin(train_id['person_id'])]\n",
    "print(bmi1.person_id.nunique())\n",
    "bmi1.to_csv('data/geo/bmi_2_train.csv',index=False)\n",
    "bmi1=bmi[bmi['person_id'].isin(test_id['person_id'])]\n",
    "print(bmi1.person_id.nunique())\n",
    "bmi1.to_csv('data/geo/bmi_2_test.csv',index=False)"
   ]
  },
  {
   "cell_type": "code",
   "execution_count": null,
   "metadata": {},
   "outputs": [],
   "source": [
    "labels=pd.read_csv('data/4/bmiOb_after2.csv',header=0)\n",
    "labels=labels.sort_values(by='person_id')\n",
    "cols_to_std=labels.columns\n",
    "cols_to_std=cols_to_std[1:]\n",
    "labels=pd.melt(labels, id_vars=['person_id'], value_vars=cols_to_std)\n",
    "labels['variable']=labels['variable'].astype(int)\n",
    "labels=labels.sort_values(by=['person_id','variable'])\n",
    "labels=labels.rename(columns={'variable':'Age'})\n",
    "labels1=labels[labels['person_id'].isin(train_id['person_id'])]\n",
    "labels1=labels1.sort_values(by=['person_id','Age'])\n",
    "print(labels1.person_id.nunique())\n",
    "labels1.to_csv('data/geo/labels_train.csv',index=False)\n",
    "labels1=labels[labels['person_id'].isin(test_id['person_id'])]\n",
    "labels1=labels1.sort_values(by=['person_id','Age'])\n",
    "print(labels1.person_id.nunique())\n",
    "labels1.to_csv('data/geo/labels_test.csv',index=False)"
   ]
  },
  {
   "cell_type": "code",
   "execution_count": null,
   "metadata": {},
   "outputs": [],
   "source": [
    "mask=pd.read_csv('data/4/bmiMask_after2.csv',header=0)\n",
    "mask=mask.sort_values(by='person_id')\n",
    "cols_to_std=mask.columns\n",
    "cols_to_std=cols_to_std[1:]\n",
    "mask=pd.melt(mask, id_vars=['person_id'], value_vars=cols_to_std)\n",
    "mask['variable']=mask['variable'].astype(int)\n",
    "mask=mask.sort_values(by=['person_id','variable'])\n",
    "mask=mask.rename(columns={'variable':'Age'})\n",
    "\n",
    "mask1=mask[mask['person_id'].isin(train_id['person_id'])]\n",
    "mask1=mask1.sort_values(by=['person_id','Age'])\n",
    "print(mask1.person_id.nunique())\n",
    "mask1.to_csv('data/geo/mask_train.csv',index=False)\n",
    "mask1=mask[mask['person_id'].isin(test_id['person_id'])]\n",
    "mask1=mask1.sort_values(by=['person_id','Age'])\n",
    "print(mask1.person_id.nunique())\n",
    "mask1.to_csv('data/geo/mask_test.csv',index=False)\n"
   ]
  },
  {
   "cell_type": "code",
   "execution_count": null,
   "metadata": {},
   "outputs": [],
   "source": [
    "final=pd.read_csv('data/5/tt/dec_all.csv',header=0)\n",
    "final1=final[final['person_id'].isin(train_id['person_id'])]\n",
    "final1=final1.sort_values(by=['person_id','age_dict'])\n",
    "print(final1.person_id.nunique())\n",
    "final1.to_csv('data/geo/dec_train.csv',index=False)\n",
    "final1=final[final['person_id'].isin(test_id['person_id'])]\n",
    "final1=final1.sort_values(by=['person_id','age_dict'])\n",
    "print(final1.person_id.nunique())\n",
    "final1.to_csv('data/geo/dec_test.csv',index=False)"
   ]
  },
  {
   "cell_type": "code",
   "execution_count": null,
   "metadata": {},
   "outputs": [],
   "source": [
    "test_id.to_csv('./data/geo/test_id.csv',index=False)\n",
    "train_id.to_csv('./data/geo/train_id.csv',index=False)"
   ]
  },
  {
   "cell_type": "markdown",
   "metadata": {},
   "source": [
    "### Demo split"
   ]
  },
  {
   "cell_type": "code",
   "execution_count": null,
   "metadata": {},
   "outputs": [],
   "source": [
    "train_id=pd.read_csv('data/4/tt/train_id.csv',header=0)\n",
    "test_id=pd.read_csv('data/4/tt/test_id.csv',header=0)\n",
    "final_ids=pd.read_csv('data/4/tt/all_id.csv',header=0)"
   ]
  },
  {
   "cell_type": "code",
   "execution_count": null,
   "metadata": {},
   "outputs": [],
   "source": [
    "demo=pd.read_csv('data/4/demo.csv',header=0)\n",
    "demo=demo.fillna('NI')\n",
    "demo=demo[demo['person_id'].isin(final_ids['person_id'])]\n",
    "demo=demo[['person_id','Eth_label','Race_label','payer_y','Sex']]\n",
    "demo.to_csv('data/4/tt/demo_all.csv',index=False)"
   ]
  },
  {
   "cell_type": "code",
   "execution_count": null,
   "metadata": {},
   "outputs": [],
   "source": [
    "demo=pd.read_csv('data/5/tt/demo_all.csv',header=0)\n",
    "demo1=demo[demo['person_id'].isin(train_id['person_id'])]\n",
    "demo1=demo1.sort_values(by='person_id')\n",
    "demo1.to_csv('data/5/tt/demo_train.csv',index=False)\n",
    "demo1=demo[demo['person_id'].isin(test_id['person_id'])]\n",
    "demo1=demo1.sort_values(by='person_id')\n",
    "demo1.to_csv('data/5/tt/demo_test.csv',index=False)\n",
    "demo.head()"
   ]
  },
  {
   "cell_type": "markdown",
   "metadata": {},
   "source": [
    "### FINAL PREP ENC"
   ]
  },
  {
   "cell_type": "code",
   "execution_count": null,
   "metadata": {},
   "outputs": [],
   "source": [
    "enc=pd.read_csv('data/5/enc_data.csv',header=0)\n",
    "enc_len=pd.read_csv('data/5/enc_lengths.csv',header=0)\n",
    "train_id=pd.read_csv('data/4/tt/train_id.csv',header=0)\n",
    "test_id=pd.read_csv('data/4/tt/test_id.csv',header=0)\n",
    "final_ids=pd.read_csv('data/4/tt/all_id.csv',header=0)"
   ]
  },
  {
   "cell_type": "code",
   "execution_count": null,
   "metadata": {},
   "outputs": [],
   "source": [
    "enc_len1=enc_len[enc_len['index'].isin(train_id['person_id'])]\n",
    "enc_len1=enc_len1.sort_values(by=['index'])\n",
    "enc_len1.to_csv('data/5/tt/enc_len_train.csv',index=False)\n",
    "enc_len1=enc_len[enc_len['index'].isin(test_id['person_id'])]\n",
    "enc_len1=enc_len1.sort_values(by=['index'])\n",
    "enc_len1.to_csv('data/5/tt/enc_len_test.csv',index=False)"
   ]
  },
  {
   "cell_type": "code",
   "execution_count": null,
   "metadata": {},
   "outputs": [],
   "source": [
    "import pickle\n",
    "with open(\"ageVocab\", 'rb') as fp:\n",
    "                a_dict=pickle.load(fp)\n",
    "        \n",
    "with open(\"data/5/featVocab\", 'rb') as fp:\n",
    "                l_dict=pickle.load(fp)\n",
    "        \n",
    "with open(\"data/5/demoVocab\", 'rb') as fp:\n",
    "                d_dict=pickle.load(fp)"
   ]
  },
  {
   "cell_type": "code",
   "execution_count": null,
   "metadata": {},
   "outputs": [],
   "source": [
    "enc['feat_dict']=[l_dict[x] for x in enc['value']]\n",
    "enc['age_dict']=[a_dict[x] for x in enc['Age']]\n",
    "\n",
    "enc1=enc[enc['person_id'].isin(train_id['person_id'])]\n",
    "enc1.to_csv('data/5/tt/enc_train.csv',index=False)\n",
    "enc1=enc[enc['person_id'].isin(test_id['person_id'])]\n",
    "enc1.to_csv('data/5/tt/enc_test.csv',index=False)"
   ]
  },
  {
   "cell_type": "code",
   "execution_count": null,
   "metadata": {},
   "outputs": [],
   "source": [
    "demo=pd.read_csv('data/5/tt/demo_test.csv',header=0)\n",
    "demo=demo.sort_values(by='person_id')\n",
    "demo['Eth_dict']=[d_dict[x] for x in demo['Eth_label']]\n",
    "demo['Race_dict']=[d_dict[x] for x in demo['Race_label']]\n",
    "demo['Sex_dict']=[d_dict[x] for x in demo['Sex']]\n",
    "demo['Payer_dict']=[d_dict[x] for x in demo['payer_y']]\n",
    "demo['COI_dict']=[d_dict[x] for x in demo['coi']]\n",
    "demo.to_csv('data/5/tt/demo_test.csv',index=False)\n",
    "\n",
    "demo=pd.read_csv('data/5/tt/demo_train.csv',header=0)\n",
    "demo=demo.sort_values(by='person_id')\n",
    "demo['Eth_dict']=[d_dict[x] for x in demo['Eth_label']]\n",
    "demo['Race_dict']=[d_dict[x] for x in demo['Race_label']]\n",
    "demo['Sex_dict']=[d_dict[x] for x in demo['Sex']]\n",
    "demo['Payer_dict']=[d_dict[x] for x in demo['payer_y']]\n",
    "demo['COI_dict']=[d_dict[x] for x in demo['coi']]\n",
    "demo.to_csv('data/5/tt/demo_train.csv',index=False)"
   ]
  },
  {
   "cell_type": "code",
   "execution_count": null,
   "metadata": {},
   "outputs": [],
   "source": [
    "bmi=pd.read_csv('data/4/bmi_label_2.csv',header=0)\n",
    "del bmi['Age']\n",
    "bmi=bmi.sort_values(by='person_id')\n",
    "\n",
    "bmi1=bmi[bmi['person_id'].isin(train_id['person_id'])]\n",
    "print(bmi1.person_id.nunique())\n",
    "bmi1.to_csv('data/5/tt/bmi_2_train.csv',index=False)\n",
    "bmi1=bmi[bmi['person_id'].isin(test_id['person_id'])]\n",
    "print(bmi1.person_id.nunique())\n",
    "bmi1.to_csv('data/5/tt/bmi_2_test.csv',index=False)\n"
   ]
  },
  {
   "cell_type": "markdown",
   "metadata": {},
   "source": [
    "### FINAL PREP DEC"
   ]
  },
  {
   "cell_type": "code",
   "execution_count": null,
   "metadata": {},
   "outputs": [],
   "source": [
    "train_id=pd.read_csv('data/4/tt/train_id.csv',header=0)\n",
    "test_id=pd.read_csv('data/4/tt/test_id.csv',header=0)\n",
    "final_ids=pd.read_csv('data/4/tt/all_id.csv',header=0)"
   ]
  },
  {
   "cell_type": "code",
   "execution_count": null,
   "metadata": {},
   "outputs": [],
   "source": [
    "import pickle\n",
    "with open(\"ageVocab\", 'rb') as fp:\n",
    "                a_dict=pickle.load(fp)\n",
    "        \n",
    "with open(\"data/5/featVocab\", 'rb') as fp:\n",
    "                l_dict=pickle.load(fp)"
   ]
  },
  {
   "cell_type": "code",
   "execution_count": null,
   "metadata": {},
   "outputs": [],
   "source": [
    "labels=pd.read_csv('data/4/bmiOb_after2.csv',header=0)\n",
    "labels=labels.sort_values(by='person_id')\n",
    "cols_to_std=labels.columns\n",
    "cols_to_std=cols_to_std[1:]\n",
    "labels=pd.melt(labels, id_vars=['person_id'], value_vars=cols_to_std)\n",
    "labels['variable']=labels['variable'].astype(int)\n",
    "labels=labels.sort_values(by=['person_id','variable'])\n",
    "labels=labels.rename(columns={'variable':'Age'})\n",
    "labels1=labels[labels['person_id'].isin(train_id['person_id'])]\n",
    "labels1=labels1.sort_values(by=['person_id','Age'])\n",
    "print(labels1.person_id.nunique())\n",
    "labels1.to_csv('data/4/tt/labels_train.csv',index=False)\n",
    "labels1=labels[labels['person_id'].isin(test_id['person_id'])]\n",
    "labels1=labels1.sort_values(by=['person_id','Age'])\n",
    "print(labels1.person_id.nunique())\n",
    "labels1.to_csv('data/4/tt/labels_test.csv',index=False)"
   ]
  },
  {
   "cell_type": "code",
   "execution_count": null,
   "metadata": {},
   "outputs": [],
   "source": [
    "mask=pd.read_csv('data/4/bmiMask_after2.csv',header=0)\n",
    "mask=mask.sort_values(by='person_id')\n",
    "cols_to_std=mask.columns\n",
    "cols_to_std=cols_to_std[1:]\n",
    "mask=pd.melt(mask, id_vars=['person_id'], value_vars=cols_to_std)\n",
    "mask['variable']=mask['variable'].astype(int)\n",
    "mask=mask.sort_values(by=['person_id','variable'])\n",
    "mask=mask.rename(columns={'variable':'Age'})\n",
    "\n",
    "mask1=mask[mask['person_id'].isin(train_id['person_id'])]\n",
    "mask1=mask1.sort_values(by=['person_id','Age'])\n",
    "print(mask1.person_id.nunique())\n",
    "mask1.to_csv('data/4/tt/mask_train.csv',index=False)\n",
    "mask1=mask[mask['person_id'].isin(test_id['person_id'])]\n",
    "mask1=mask1.sort_values(by=['person_id','Age'])\n",
    "print(mask1.person_id.nunique())\n",
    "mask1.to_csv('data/4/tt/mask_test.csv',index=False)\n"
   ]
  },
  {
   "cell_type": "code",
   "execution_count": null,
   "metadata": {},
   "outputs": [],
   "source": [
    "mask1.head()"
   ]
  },
  {
   "cell_type": "code",
   "execution_count": null,
   "metadata": {},
   "outputs": [],
   "source": []
  },
  {
   "cell_type": "code",
   "execution_count": null,
   "metadata": {},
   "outputs": [],
   "source": [
    "meas=pd.read_csv('data/4/meas_after2.csv',header=0)\n",
    "\n",
    "meas=meas[meas['person_id'].isin(final_ids['person_id'])]\n",
    "cols_to_std=meas.columns\n",
    "cols_to_std=cols_to_std[2:]\n",
    "meas=pd.melt(meas, id_vars=['person_id','Age'], value_vars=cols_to_std)\n",
    "meas['feat_dict']=[l_dict[x] for x in meas['value']]\n",
    "meas['age_dict']=[a_dict[x] for x in meas['Age']]\n",
    "\n",
    "\n",
    "meas=meas.pivot_table(index=['person_id','age_dict'],columns='variable',values='feat_dict', aggfunc='first')\n",
    "meas=meas.reset_index()\n",
    "meas.head()"
   ]
  },
  {
   "cell_type": "code",
   "execution_count": null,
   "metadata": {},
   "outputs": [],
   "source": [
    "meas.columns"
   ]
  },
  {
   "cell_type": "code",
   "execution_count": null,
   "metadata": {},
   "outputs": [],
   "source": [
    "cond_dec=pd.read_csv('data/4/cond_after2.csv',header=0)\n",
    "cond_dec=cond_dec[cond_dec['person_id'].isin(final_ids['person_id'])]\n",
    "cond_dec=cond_dec.loc[:, (cond_dec != 0).any(axis=0)]\n",
    "cols_to_std=cond_dec.columns\n",
    "cols_to_std=cols_to_std[:-2]\n",
    "\n",
    "cond_dec=pd.melt(cond_dec, id_vars=['person_id','Age'], value_vars=cols_to_std)\n",
    "\n",
    "cond_dec=cond_dec.drop_duplicates()\n",
    "cond_dec['feat_dict']=[l_dict[x] for x in cond_dec['variable']]\n",
    "cond_dec['age_dict']=[a_dict[x] for x in cond_dec['Age']]\n",
    "\n",
    "cond_dec=cond_dec.pivot_table(index=['person_id','age_dict'],columns='variable',values='feat_dict', aggfunc='first')\n",
    "cond_dec=cond_dec.reset_index()\n",
    "cond_dec.head()"
   ]
  },
  {
   "cell_type": "code",
   "execution_count": null,
   "metadata": {},
   "outputs": [],
   "source": [
    "cond_dec.shape"
   ]
  },
  {
   "cell_type": "code",
   "execution_count": null,
   "metadata": {},
   "outputs": [],
   "source": [
    "med_dec=pd.read_csv('data/5/meds_after2_reduced.csv',header=0)\n",
    "med_dec=med_dec[med_dec['person_id'].isin(final_ids['person_id'])]\n",
    "med_dec=med_dec.loc[:, (med_dec != 0).any(axis=0)]\n",
    "cols_to_std=med_dec.columns\n",
    "cols_to_std=cols_to_std[:-2]\n",
    "\n",
    "med_dec=pd.melt(med_dec, id_vars=['person_id','Age'], value_vars=cols_to_std)\n",
    "\n",
    "med_dec=med_dec.drop_duplicates()\n",
    "med_dec['feat_dict']=[l_dict[x] for x in med_dec['variable']]\n",
    "med_dec['age_dict']=[a_dict[x] for x in med_dec['Age']]\n",
    "\n",
    "med_dec=med_dec.pivot_table(index=['person_id','age_dict'],columns='variable',values='feat_dict', aggfunc='first')\n",
    "med_dec=med_dec.reset_index()\n",
    "med_dec.head()"
   ]
  },
  {
   "cell_type": "code",
   "execution_count": null,
   "metadata": {},
   "outputs": [],
   "source": [
    "cond_dec.person_id.nunique()"
   ]
  },
  {
   "cell_type": "code",
   "execution_count": null,
   "metadata": {},
   "outputs": [],
   "source": [
    "meas.person_id.nunique()"
   ]
  },
  {
   "cell_type": "code",
   "execution_count": null,
   "metadata": {},
   "outputs": [],
   "source": [
    "med_dec.person_id.nunique()"
   ]
  },
  {
   "cell_type": "code",
   "execution_count": null,
   "metadata": {},
   "outputs": [],
   "source": [
    "meas.shape"
   ]
  },
  {
   "cell_type": "code",
   "execution_count": null,
   "metadata": {},
   "outputs": [],
   "source": [
    "med_dec.shape"
   ]
  },
  {
   "cell_type": "code",
   "execution_count": null,
   "metadata": {},
   "outputs": [],
   "source": [
    "final=pd.merge(cond_dec,meas,on=['person_id','age_dict'],how='outer')\n",
    "final=pd.merge(final,med_dec,on=['person_id','age_dict'],how='outer')"
   ]
  },
  {
   "cell_type": "code",
   "execution_count": null,
   "metadata": {},
   "outputs": [],
   "source": [
    "final.shape"
   ]
  },
  {
   "cell_type": "code",
   "execution_count": null,
   "metadata": {},
   "outputs": [],
   "source": [
    "final.person_id.nunique()"
   ]
  },
  {
   "cell_type": "code",
   "execution_count": null,
   "metadata": {},
   "outputs": [],
   "source": [
    "final.head()"
   ]
  },
  {
   "cell_type": "code",
   "execution_count": null,
   "metadata": {},
   "outputs": [],
   "source": [
    "final=pd.read_csv('data/5/tt/dec_all.csv',header=0)"
   ]
  },
  {
   "cell_type": "code",
   "execution_count": null,
   "metadata": {},
   "outputs": [],
   "source": [
    "final.to_csv('data/5/tt/dec_all.csv',index=False)\n",
    "final1=final[final['person_id'].isin(train_id['person_id'])]\n",
    "final1=final1.sort_values(by=['person_id','age_dict'])\n",
    "print(final1.person_id.nunique())\n",
    "final1.to_csv('data/5/tt/dec_train.csv',index=False)\n",
    "final1=final[final['person_id'].isin(test_id['person_id'])]\n",
    "final1=final1.sort_values(by=['person_id','age_dict'])\n",
    "print(final1.person_id.nunique())\n",
    "final1.to_csv('data/5/tt/dec_test.csv',index=False)"
   ]
  },
  {
   "cell_type": "code",
   "execution_count": null,
   "metadata": {},
   "outputs": [],
   "source": []
  },
  {
   "cell_type": "markdown",
   "metadata": {},
   "source": [
    "### FINAl VERIFICATION oF ID SORT"
   ]
  },
  {
   "cell_type": "code",
   "execution_count": null,
   "metadata": {},
   "outputs": [],
   "source": [
    "enc_test=pd.read_csv('data/5/tt/enc_test.csv',header=0)\n",
    "len_test=pd.read_csv('data/5/tt/enc_len_test.csv',header=0)\n",
    "demo_test=pd.read_csv('data/5/tt/demo_test.csv',header=0)\n",
    "bmi=pd.read_csv('data/5/tt/bmi_2_test.csv',header=0)\n",
    "\n",
    "dec_test=pd.read_csv('data/5/tt/dec_test.csv',header=0)\n",
    "labels_test=pd.read_csv('data/4/tt/labels_test.csv',header=0)\n",
    "mask_test=pd.read_csv('data/4/tt/mask_test.csv',header=0)"
   ]
  },
  {
   "cell_type": "code",
   "execution_count": null,
   "metadata": {},
   "outputs": [],
   "source": [
    "print(enc_test.person_id.nunique())\n",
    "print(len_test['index'].nunique())\n",
    "print(demo_test.person_id.nunique())\n",
    "print(bmi.person_id.nunique())\n",
    "print(dec_test.person_id.nunique())\n",
    "print(labels_test.person_id.nunique())\n",
    "print(mask_test.person_id.nunique())"
   ]
  },
  {
   "cell_type": "code",
   "execution_count": null,
   "metadata": {},
   "outputs": [],
   "source": [
    "enc_test"
   ]
  },
  {
   "cell_type": "code",
   "execution_count": null,
   "metadata": {},
   "outputs": [],
   "source": [
    "demo_test"
   ]
  },
  {
   "cell_type": "code",
   "execution_count": null,
   "metadata": {},
   "outputs": [],
   "source": [
    "len_test.head()"
   ]
  },
  {
   "cell_type": "code",
   "execution_count": null,
   "metadata": {},
   "outputs": [],
   "source": [
    "bmi.head()"
   ]
  },
  {
   "cell_type": "code",
   "execution_count": null,
   "metadata": {},
   "outputs": [],
   "source": [
    "list(dec_test.person_id)"
   ]
  },
  {
   "cell_type": "code",
   "execution_count": null,
   "metadata": {},
   "outputs": [],
   "source": [
    "dec_test.head()"
   ]
  },
  {
   "cell_type": "code",
   "execution_count": null,
   "metadata": {},
   "outputs": [],
   "source": [
    "labels_test.head()"
   ]
  },
  {
   "cell_type": "code",
   "execution_count": null,
   "metadata": {},
   "outputs": [],
   "source": [
    "list(labels_test.person_id)"
   ]
  },
  {
   "cell_type": "code",
   "execution_count": null,
   "metadata": {},
   "outputs": [],
   "source": [
    "mask_test.head()"
   ]
  },
  {
   "cell_type": "code",
   "execution_count": null,
   "metadata": {},
   "outputs": [],
   "source": [
    "list(mask_test.person_id)"
   ]
  },
  {
   "cell_type": "code",
   "execution_count": null,
   "metadata": {},
   "outputs": [],
   "source": [
    "len(l_dict)"
   ]
  },
  {
   "cell_type": "code",
   "execution_count": null,
   "metadata": {},
   "outputs": [],
   "source": [
    "len(d_dict)"
   ]
  },
  {
   "cell_type": "markdown",
   "metadata": {},
   "source": [
    "### BMI Mapping"
   ]
  },
  {
   "cell_type": "code",
   "execution_count": null,
   "metadata": {},
   "outputs": [],
   "source": [
    "fbmi=pd.read_csv('Female_BMI2.csv',header=0)\n",
    "mbmi=pd.read_csv('Male_BMI2.csv',header=0)"
   ]
  },
  {
   "cell_type": "code",
   "execution_count": null,
   "metadata": {},
   "outputs": [],
   "source": [
    "for row in range(fbmi.shape[0]):\n",
    "    labs.loc[(labs.Sex=='Female') & (labs.Age>=fbmi.iloc[row,0]) & (labs.Age<fbmi.iloc[row,0] + 1) & (labs.BMI<=fbmi.iloc[row,1]),'label']=3\n",
    "    labs.loc[(labs.Sex=='Female') &(labs.Age>=fbmi.iloc[row,0]) & (labs.Age<fbmi.iloc[row,0] + 1) & (labs.BMI>fbmi.iloc[row,1]) & (labs.BMI<=fbmi.iloc[row,2]),'label']=5\n",
    "    labs.loc[(labs.Sex=='Female') & (labs.Age>=fbmi.iloc[row,0]) & (labs.Age<fbmi.iloc[row,0] + 1) & (labs.BMI>fbmi.iloc[row,2]) & (labs.BMI<=fbmi.iloc[row,3]),'label']=10\n",
    "    labs.loc[(labs.Sex=='Female') &(labs.Age>=fbmi.iloc[row,0]) & (labs.Age<fbmi.iloc[row,0] + 1) & (labs.BMI>fbmi.iloc[row,3]) & (labs.BMI<=fbmi.iloc[row,4]),'label']=25\n",
    "    labs.loc[(labs.Sex=='Female') & (labs.Age>=fbmi.iloc[row,0]) & (labs.Age<fbmi.iloc[row,0] + 1) & (labs.BMI>fbmi.iloc[row,4]) & (labs.BMI<=fbmi.iloc[row,5]),'label']=50\n",
    "    labs.loc[(labs.Sex=='Female') &(labs.Age>=fbmi.iloc[row,0]) & (labs.Age<fbmi.iloc[row,0] + 1) & (labs.BMI>fbmi.iloc[row,5]) & (labs.BMI<=fbmi.iloc[row,6]),'label']=75\n",
    "    labs.loc[(labs.Sex=='Female') & (labs.Age>=fbmi.iloc[row,0]) & (labs.Age<fbmi.iloc[row,0] + 1) & (labs.BMI>fbmi.iloc[row,6]) & (labs.BMI<=fbmi.iloc[row,7]),'label']=85\n",
    "    labs.loc[(labs.Sex=='Female') &(labs.Age>=fbmi.iloc[row,0]) & (labs.Age<fbmi.iloc[row,0] + 1) & (labs.BMI>fbmi.iloc[row,7]) & (labs.BMI<=fbmi.iloc[row,8]),'label']=90\n",
    "    labs.loc[(labs.Sex=='Female') & (labs.Age>=fbmi.iloc[row,0]) & (labs.Age<fbmi.iloc[row,0] + 1) & (labs.BMI>fbmi.iloc[row,8]) & (labs.BMI<=fbmi.iloc[row,9]),'label']=95\n",
    "    labs.loc[(labs.Sex=='Female') & (labs.Age>=fbmi.iloc[row,0]) & (labs.Age<fbmi.iloc[row,0] + 1) & (labs.BMI>fbmi.iloc[row,9]) & (labs.BMI<=fbmi.iloc[row,10]),'label']=97\n",
    "    labs.loc[(labs.Sex=='Female') & (labs.Age>=fbmi.iloc[row,0]) & (labs.Age<fbmi.iloc[row,0] + 1) & (labs.BMI>fbmi.iloc[row,10]),'label']=100\n",
    "    "
   ]
  },
  {
   "cell_type": "code",
   "execution_count": null,
   "metadata": {},
   "outputs": [],
   "source": [
    "for row in range(mbmi.shape[0]):\n",
    "    labs.loc[(labs.Sex=='Male') & (labs.Age>=mbmi.iloc[row,0]) & (labs.Age<mbmi.iloc[row,0] + 1) & (labs.BMI<=mbmi.iloc[row,1]),'label']=3\n",
    "    labs.loc[(labs.Sex=='Male') &(labs.Age>=mbmi.iloc[row,0]) & (labs.Age<mbmi.iloc[row,0] + 1) & (labs.BMI>mbmi.iloc[row,1]) & (labs.BMI<=mbmi.iloc[row,2]),'label']=5\n",
    "    labs.loc[(labs.Sex=='Male') & (labs.Age>=mbmi.iloc[row,0]) & (labs.Age<mbmi.iloc[row,0] + 1) & (labs.BMI>mbmi.iloc[row,2]) & (labs.BMI<=mbmi.iloc[row,3]),'label']=10\n",
    "    labs.loc[(labs.Sex=='Male') &(labs.Age>=mbmi.iloc[row,0]) & (labs.Age<mbmi.iloc[row,0] + 1) & (labs.BMI>mbmi.iloc[row,3]) & (labs.BMI<=mbmi.iloc[row,4]),'label']=25\n",
    "    labs.loc[(labs.Sex=='Male') & (labs.Age>=mbmi.iloc[row,0]) & (labs.Age<mbmi.iloc[row,0] + 1) & (labs.BMI>mbmi.iloc[row,4]) & (labs.BMI<=mbmi.iloc[row,5]),'label']=50\n",
    "    labs.loc[(labs.Sex=='Male') &(labs.Age>=mbmi.iloc[row,0]) & (labs.Age<mbmi.iloc[row,0] + 1) & (labs.BMI>mbmi.iloc[row,5]) & (labs.BMI<=mbmi.iloc[row,6]),'label']=75\n",
    "    labs.loc[(labs.Sex=='Male') & (labs.Age>=mbmi.iloc[row,0]) & (labs.Age<mbmi.iloc[row,0] + 1) & (labs.BMI>mbmi.iloc[row,6]) & (labs.BMI<=mbmi.iloc[row,7]),'label']=85\n",
    "    labs.loc[(labs.Sex=='Male') &(labs.Age>=mbmi.iloc[row,0]) & (labs.Age<mbmi.iloc[row,0] + 1) & (labs.BMI>mbmi.iloc[row,7]) & (labs.BMI<=mbmi.iloc[row,8]),'label']=90\n",
    "    labs.loc[(labs.Sex=='Male') & (labs.Age>=mbmi.iloc[row,0]) & (labs.Age<mbmi.iloc[row,0] + 1) & (labs.BMI>mbmi.iloc[row,8]) & (labs.BMI<=mbmi.iloc[row,9]),'label']=95\n",
    "    labs.loc[(labs.Sex=='Male') & (labs.Age>=mbmi.iloc[row,0]) & (labs.Age<mbmi.iloc[row,0] + 1) & (labs.BMI>mbmi.iloc[row,9]) & (labs.BMI<=mbmi.iloc[row,10]),'label']=97\n",
    "    labs.loc[(labs.Sex=='Male') & (labs.Age>=mbmi.iloc[row,0]) & (labs.Age<mbmi.iloc[row,0] + 1) & (labs.BMI>mbmi.iloc[row,10]) ,'label']=100\n",
    "    "
   ]
  },
  {
   "cell_type": "code",
   "execution_count": null,
   "metadata": {},
   "outputs": [],
   "source": [
    "labs=bmi"
   ]
  },
  {
   "cell_type": "code",
   "execution_count": null,
   "metadata": {},
   "outputs": [],
   "source": [
    "demo=pd.read_csv('demo2.csv',header=0)\n",
    "labs=pd.merge(labs,demo[['person_id','Sex']],on='person_id',how='left')\n",
    "labs['label']=0"
   ]
  },
  {
   "cell_type": "code",
   "execution_count": null,
   "metadata": {},
   "outputs": [],
   "source": [
    "bmi=labs"
   ]
  },
  {
   "cell_type": "code",
   "execution_count": null,
   "metadata": {},
   "outputs": [],
   "source": []
  },
  {
   "cell_type": "code",
   "execution_count": null,
   "metadata": {},
   "outputs": [],
   "source": [
    "fbmi=pd.read_csv('femaleinfant2.csv',header=0)\n",
    "mbmi=pd.read_csv('maleinfant2.csv',header=0)"
   ]
  },
  {
   "cell_type": "code",
   "execution_count": null,
   "metadata": {},
   "outputs": [],
   "source": [
    "for row in range(fbmi.shape[0]):\n",
    "    labs.loc[(labs.Sex=='Female') & (labs.Age>=0) & (labs.Age<24) & (labs[3023540]>=fbmi.iloc[row,0]) & (labs[3023540]<fbmi.iloc[row,0] + 1) & (labs[3013762]<=fbmi.iloc[row,1]),'label']=3\n",
    "    labs.loc[(labs.Sex=='Female') & (labs.Age>=0) & (labs.Age<24) & (labs[3023540]>=fbmi.iloc[row,0]) & (labs[3023540]<fbmi.iloc[row,0] + 1) & (labs[3013762]>fbmi.iloc[row,1]) & (labs[3013762]<=fbmi.iloc[row,2]),'label']=5\n",
    "    labs.loc[(labs.Sex=='Female') & (labs.Age>=0) & (labs.Age<24) & (labs[3023540]>=fbmi.iloc[row,0]) & (labs[3023540]<fbmi.iloc[row,0] + 1) & (labs[3013762]>fbmi.iloc[row,2]) & (labs[3013762]<=fbmi.iloc[row,3]),'label']=10\n",
    "    labs.loc[(labs.Sex=='Female') & (labs.Age>=0) & (labs.Age<24) & (labs[3023540]>=fbmi.iloc[row,0]) & (labs[3023540]<fbmi.iloc[row,0] + 1) & (labs[3013762]>fbmi.iloc[row,3]) & (labs[3013762]<=fbmi.iloc[row,4]),'label']=25\n",
    "    labs.loc[(labs.Sex=='Female') & (labs.Age>=0) & (labs.Age<24) & (labs[3023540]>=fbmi.iloc[row,0]) & (labs[3023540]<fbmi.iloc[row,0] + 1) & (labs[3013762]>fbmi.iloc[row,4]) & (labs[3013762]<=fbmi.iloc[row,5]),'label']=50\n",
    "    labs.loc[(labs.Sex=='Female') & (labs.Age>=0) & (labs.Age<24) & (labs[3023540]>=fbmi.iloc[row,0]) & (labs[3023540]<fbmi.iloc[row,0] + 1) & (labs[3013762]>fbmi.iloc[row,5]) & (labs[3013762]<=fbmi.iloc[row,6]),'label']=75\n",
    "    labs.loc[(labs.Sex=='Female') & (labs.Age>=0) & (labs.Age<24) & (labs[3023540]>=fbmi.iloc[row,0]) & (labs[3023540]<fbmi.iloc[row,0] + 1) & (labs[3013762]>fbmi.iloc[row,6]) & (labs[3013762]<=fbmi.iloc[row,7]),'label']=90\n",
    "    labs.loc[(labs.Sex=='Female') & (labs.Age>=0) & (labs.Age<24) & (labs[3023540]>=fbmi.iloc[row,0]) & (labs[3023540]<fbmi.iloc[row,0] + 1) & (labs[3013762]>fbmi.iloc[row,7]) & (labs[3013762]<=fbmi.iloc[row,8]),'label']=95\n",
    "    labs.loc[(labs.Sex=='Female') & (labs.Age>=0) & (labs.Age<24) & (labs[3023540]>=fbmi.iloc[row,0]) & (labs[3023540]<fbmi.iloc[row,0] + 1) & (labs[3013762]>fbmi.iloc[row,8]) & (labs[3013762]<=fbmi.iloc[row,9]),'label']=97\n",
    "    labs.loc[(labs.Sex=='Female') & (labs.Age>=0) & (labs.Age<24) & (labs[3023540]>=fbmi.iloc[row,0]) & (labs[3023540]<fbmi.iloc[row,0] + 1) & (labs[3013762]>fbmi.iloc[row,9]),'label']=100"
   ]
  },
  {
   "cell_type": "code",
   "execution_count": null,
   "metadata": {},
   "outputs": [],
   "source": [
    "for row in range(mbmi.shape[0]):\n",
    "    labs.loc[(labs.Sex=='Male') & (labs.Age>=0) & (labs.Age<24) & (labs[3023540]>=mbmi.iloc[row,0]) & (labs[3023540]<mbmi.iloc[row,0] + 1) & (labs[3013762]<=mbmi.iloc[row,1]),'label']=3\n",
    "    labs.loc[(labs.Sex=='Male') & (labs.Age>=0) & (labs.Age<24) & (labs[3023540]>=mbmi.iloc[row,0]) & (labs[3023540]<mbmi.iloc[row,0] + 1) & (labs[3013762]>mbmi.iloc[row,1]) & (labs[3013762]<=mbmi.iloc[row,2]),'label']=5\n",
    "    labs.loc[(labs.Sex=='Male') & (labs.Age>=0) & (labs.Age<24) & (labs[3023540]>=mbmi.iloc[row,0]) & (labs[3023540]<mbmi.iloc[row,0] + 1) & (labs[3013762]>mbmi.iloc[row,2]) & (labs[3013762]<=mbmi.iloc[row,3]),'label']=10\n",
    "    labs.loc[(labs.Sex=='Male') & (labs.Age>=0) & (labs.Age<24) & (labs[3023540]>=mbmi.iloc[row,0]) & (labs[3023540]<mbmi.iloc[row,0] + 1) & (labs[3013762]>mbmi.iloc[row,3]) & (labs[3013762]<=mbmi.iloc[row,4]),'label']=25\n",
    "    labs.loc[(labs.Sex=='Male') & (labs.Age>=0) & (labs.Age<24) & (labs[3023540]>=mbmi.iloc[row,0]) & (labs[3023540]<mbmi.iloc[row,0] + 1) & (labs[3013762]>mbmi.iloc[row,4]) & (labs[3013762]<=mbmi.iloc[row,5]),'label']=50\n",
    "    labs.loc[(labs.Sex=='Male') & (labs.Age>=0) & (labs.Age<24) & (labs[3023540]>=mbmi.iloc[row,0]) & (labs[3023540]<mbmi.iloc[row,0] + 1) & (labs[3013762]>mbmi.iloc[row,5]) & (labs[3013762]<=mbmi.iloc[row,6]),'label']=75\n",
    "    labs.loc[(labs.Sex=='Male') & (labs.Age>=0) & (labs.Age<24) & (labs[3023540]>=mbmi.iloc[row,0]) & (labs[3023540]<mbmi.iloc[row,0] + 1) & (labs[3013762]>mbmi.iloc[row,6]) & (labs[3013762]<=mbmi.iloc[row,7]),'label']=90\n",
    "    labs.loc[(labs.Sex=='Male') & (labs.Age>=0) & (labs.Age<24) & (labs[3023540]>=mbmi.iloc[row,0]) & (labs[3023540]<mbmi.iloc[row,0] + 1) & (labs[3013762]>mbmi.iloc[row,7]) & (labs[3013762]<=mbmi.iloc[row,8]),'label']=95\n",
    "    labs.loc[(labs.Sex=='Male') & (labs.Age>=0) & (labs.Age<24) & (labs[3023540]>=mbmi.iloc[row,0]) & (labs[3023540]<mbmi.iloc[row,0] + 1) & (labs[3013762]>mbmi.iloc[row,8]) & (labs[3013762]<=mbmi.iloc[row,9]),'label']=97\n",
    "    labs.loc[(labs.Sex=='Male') & (labs.Age>=0) & (labs.Age<24) & (labs[3023540]>=mbmi.iloc[row,0]) & (labs[3023540]<mbmi.iloc[row,0] + 1) & (labs[3013762]>mbmi.iloc[row,9]),'label']=100"
   ]
  },
  {
   "cell_type": "code",
   "execution_count": null,
   "metadata": {},
   "outputs": [],
   "source": []
  },
  {
   "cell_type": "code",
   "execution_count": null,
   "metadata": {},
   "outputs": [],
   "source": []
  },
  {
   "cell_type": "code",
   "execution_count": null,
   "metadata": {},
   "outputs": [],
   "source": []
  },
  {
   "cell_type": "code",
   "execution_count": null,
   "metadata": {},
   "outputs": [],
   "source": []
  },
  {
   "cell_type": "code",
   "execution_count": null,
   "metadata": {},
   "outputs": [],
   "source": []
  },
  {
   "cell_type": "code",
   "execution_count": null,
   "metadata": {},
   "outputs": [],
   "source": [
    "labs.head()"
   ]
  },
  {
   "cell_type": "code",
   "execution_count": null,
   "metadata": {},
   "outputs": [],
   "source": [
    "labels=pd.read_csv('labels.csv',header=0)"
   ]
  },
  {
   "cell_type": "code",
   "execution_count": null,
   "metadata": {},
   "outputs": [],
   "source": [
    "labels.head()"
   ]
  },
  {
   "cell_type": "code",
   "execution_count": null,
   "metadata": {},
   "outputs": [],
   "source": [
    "labels[labels['obese']==0].count()"
   ]
  },
  {
   "cell_type": "code",
   "execution_count": null,
   "metadata": {},
   "outputs": [],
   "source": [
    "labels[labels['obese']==1].count()"
   ]
  },
  {
   "cell_type": "code",
   "execution_count": null,
   "metadata": {},
   "outputs": [],
   "source": [
    "pids=list((set(labels['person_id'].unique())).intersection(set(cond['person_id'].unique())))"
   ]
  },
  {
   "cell_type": "code",
   "execution_count": null,
   "metadata": {},
   "outputs": [],
   "source": [
    "labels=labels[labels['person_id'].isin(pids)]\n",
    "cond=cond[cond['person_id'].isin(pids)]"
   ]
  },
  {
   "cell_type": "code",
   "execution_count": null,
   "metadata": {},
   "outputs": [],
   "source": [
    "labels[labels['obese']==0].count()"
   ]
  },
  {
   "cell_type": "code",
   "execution_count": null,
   "metadata": {},
   "outputs": [],
   "source": [
    "labels[labels['obese']==1].count()"
   ]
  },
  {
   "cell_type": "code",
   "execution_count": null,
   "metadata": {},
   "outputs": [],
   "source": [
    "cond.shape"
   ]
  },
  {
   "cell_type": "code",
   "execution_count": null,
   "metadata": {},
   "outputs": [],
   "source": [
    "labels.shape"
   ]
  },
  {
   "cell_type": "code",
   "execution_count": null,
   "metadata": {},
   "outputs": [],
   "source": [
    "print(cond['person_id'].nunique())\n",
    "print(labels['person_id'].nunique())"
   ]
  },
  {
   "cell_type": "code",
   "execution_count": null,
   "metadata": {},
   "outputs": [],
   "source": [
    "labels_ob=labels[labels['obese']==1]\n",
    "labels_n=labels[labels['obese']==0]\n",
    "cond_ob=cond[cond['person_id'].isin(labels_ob['person_id'].unique())]\n",
    "cond_n=cond[cond['person_id'].isin(labels_n['person_id'].unique())]"
   ]
  },
  {
   "cell_type": "code",
   "execution_count": null,
   "metadata": {},
   "outputs": [],
   "source": [
    "X_ob,xtest_ob,y_ob,ytest_ob=train_test_split(cond_ob, labels_ob, test_size=0.2, random_state=42)\n",
    "X_n,xtest_n,y_n,ytest_n=train_test_split(cond_n, labels_n, test_size=0.2, random_state=42)"
   ]
  },
  {
   "cell_type": "code",
   "execution_count": null,
   "metadata": {},
   "outputs": [],
   "source": [
    "X_ob2,_,y_ob2,_=train_test_split(X_ob, y_ob, test_size=0.5, random_state=42)"
   ]
  },
  {
   "cell_type": "code",
   "execution_count": null,
   "metadata": {},
   "outputs": [],
   "source": [
    "X_ob=pd.concat([X_ob,X_ob2],axis=0)\n",
    "y_ob=pd.concat([y_ob,y_ob2],axis=0)"
   ]
  },
  {
   "cell_type": "code",
   "execution_count": null,
   "metadata": {},
   "outputs": [],
   "source": [
    "X_ob.shape"
   ]
  },
  {
   "cell_type": "code",
   "execution_count": null,
   "metadata": {},
   "outputs": [],
   "source": []
  },
  {
   "cell_type": "code",
   "execution_count": null,
   "metadata": {},
   "outputs": [],
   "source": [
    "X_n.shape"
   ]
  },
  {
   "cell_type": "code",
   "execution_count": null,
   "metadata": {},
   "outputs": [],
   "source": [
    "X=pd.concat([X_ob,X_n],axis=0)\n",
    "y=pd.concat([y_ob,y_n],axis=0)"
   ]
  },
  {
   "cell_type": "code",
   "execution_count": null,
   "metadata": {},
   "outputs": [],
   "source": [
    "X.shape"
   ]
  },
  {
   "cell_type": "code",
   "execution_count": null,
   "metadata": {},
   "outputs": [],
   "source": [
    "y.head()"
   ]
  },
  {
   "cell_type": "code",
   "execution_count": null,
   "metadata": {},
   "outputs": [],
   "source": [
    "X_test=pd.concat([xtest_ob,xtest_n],axis=0)\n",
    "y_test=pd.concat([ytest_ob,ytest_n],axis=0)"
   ]
  },
  {
   "cell_type": "code",
   "execution_count": null,
   "metadata": {},
   "outputs": [],
   "source": []
  },
  {
   "cell_type": "code",
   "execution_count": null,
   "metadata": {},
   "outputs": [],
   "source": [
    "from sklearn.ensemble import GradientBoostingClassifier\n",
    "from sklearn.metrics import classification_report\n",
    "from sklearn.model_selection import KFold\n",
    "from sklearn.datasets import load_breast_cancer\n",
    "from sklearn.model_selection import train_test_split"
   ]
  },
  {
   "cell_type": "code",
   "execution_count": null,
   "metadata": {},
   "outputs": [],
   "source": [
    "df = pd.DataFrame(load_breast_cancer()['data'],\n",
    "columns=load_breast_cancer()['feature_names'])\n",
    "df['y'] = load_breast_cancer()['target']\n",
    "df.head(5)"
   ]
  },
  {
   "cell_type": "code",
   "execution_count": null,
   "metadata": {},
   "outputs": [],
   "source": [
    "X,y = df.drop('y',axis=1),df.y\n",
    "kf = KFold(n_splits=5,random_state=42,shuffle=True)\n",
    "for train_index,val_index in kf.split(X):\n",
    "    X_train,X_val = X.iloc[train_index],X.iloc[val_index],\n",
    "    y_train,y_val = y.iloc[train_index],y.iloc[val_index],"
   ]
  },
  {
   "cell_type": "code",
   "execution_count": null,
   "metadata": {},
   "outputs": [],
   "source": [
    "X_train"
   ]
  },
  {
   "cell_type": "code",
   "execution_count": null,
   "metadata": {},
   "outputs": [],
   "source": []
  },
  {
   "cell_type": "code",
   "execution_count": null,
   "metadata": {},
   "outputs": [],
   "source": []
  },
  {
   "cell_type": "code",
   "execution_count": null,
   "metadata": {},
   "outputs": [],
   "source": [
    "del X['person_id']\n",
    "del y['person_id']\n",
    "del X_test['person_id']\n",
    "del y_test['person_id']"
   ]
  },
  {
   "cell_type": "code",
   "execution_count": null,
   "metadata": {},
   "outputs": [],
   "source": [
    "gradient_booster = GradientBoostingClassifier(learning_rate=0.1,max_depth=10,max_features=\"auto\")\n",
    "gradient_booster.get_params()"
   ]
  },
  {
   "cell_type": "code",
   "execution_count": null,
   "metadata": {},
   "outputs": [],
   "source": [
    "gradient_booster.fit(X,y)\n",
    "print(classification_report(y_test,gradient_booster.predict(X_test)))"
   ]
  },
  {
   "cell_type": "code",
   "execution_count": null,
   "metadata": {},
   "outputs": [],
   "source": []
  }
 ],
 "metadata": {
  "hide_input": false,
  "kernelspec": {
   "display_name": "Python 3",
   "language": "python",
   "name": "python3"
  },
  "language_info": {
   "codemirror_mode": {
    "name": "ipython",
    "version": 3
   },
   "file_extension": ".py",
   "mimetype": "text/x-python",
   "name": "python",
   "nbconvert_exporter": "python",
   "pygments_lexer": "ipython3",
   "version": "3.7.6"
  }
 },
 "nbformat": 4,
 "nbformat_minor": 5
}
